{
 "cells": [
  {
   "cell_type": "code",
   "execution_count": 22,
   "id": "9d090ef4-91ef-4295-84b8-f2b613c01dc7",
   "metadata": {},
   "outputs": [
    {
     "name": "stdout",
     "output_type": "stream",
     "text": [
      "[1, 2, 3, 4, 5, 'a', 'b']\n"
     ]
    }
   ],
   "source": [
    "x = ['a', 1, 'b',2, 'a', 3, 'b', 4, 5, 'b']\n",
    "# u = []\n",
    "number = []\n",
    "string = []\n",
    "# for item in x:\n",
    "#     if item not in u:\n",
    "#         u.append(item)\n",
    "        \n",
    "for item in x :\n",
    "    if isinstance(item, int):\n",
    "        if item not in number:\n",
    "            number.append(item)\n",
    "    elif isinstance(item, str):\n",
    "         if item not in string:\n",
    "            string.append(item)\n",
    "result = number + string\n",
    "# print(u)\n",
    "print(result)"
   ]
  },
  {
   "cell_type": "code",
   "execution_count": null,
   "id": "d3f84381",
   "metadata": {},
   "outputs": [],
   "source": []
  },
  {
   "cell_type": "code",
   "execution_count": 24,
   "id": "ae113c5a-684d-4d59-8d88-97e0bee2cdb3",
   "metadata": {},
   "outputs": [
    {
     "name": "stdout",
     "output_type": "stream",
     "text": [
      "[1, 2, 3, 4, 5, 'a', 'b']\n"
     ]
    }
   ],
   "source": [
    "ex1 = []\n",
    "\n",
    "for i in x:\n",
    "    if i not in ex1:\n",
    "        ex1.append(i)\n",
    "ex1.sort(key=lambda x: isinstance(x, str))\n",
    "# 숫자면 0 문자면 1로 반환해서 숫자-문자 순으로 되도록 정렬해줌\n",
    "print(ex1)"
   ]
  },
  {
   "cell_type": "code",
   "execution_count": 30,
   "id": "f9ce76ba",
   "metadata": {},
   "outputs": [
    {
     "name": "stdout",
     "output_type": "stream",
     "text": [
      "[1, 2, 3, 4, 5, 'b', 'a']\n"
     ]
    }
   ],
   "source": [
    "ex2 = list(set(x))\n",
    "ex2.sort(key=lambda x: isinstance(x, str))\n",
    "print(ex2)"
   ]
  },
  {
   "cell_type": "code",
   "execution_count": 32,
   "id": "1554aa5a",
   "metadata": {},
   "outputs": [
    {
     "name": "stdout",
     "output_type": "stream",
     "text": [
      "a,b,c,d\n",
      "a_b_c_d\n"
     ]
    }
   ],
   "source": [
    "#문자열 함수\n",
    "a = \",\".join('abcd')\n",
    "b ='_'.join(['a', 'b', 'c', 'd'])\n",
    "print(a)\n",
    "print(b)"
   ]
  },
  {
   "cell_type": "code",
   "execution_count": 34,
   "id": "935342fc",
   "metadata": {},
   "outputs": [
    {
     "name": "stdout",
     "output_type": "stream",
     "text": [
      "['life', 'is', 'too', 'short']\n"
     ]
    }
   ],
   "source": [
    "a = 'life:is:too:short'\n",
    "print(a.split(':'))"
   ]
  },
  {
   "cell_type": "code",
   "execution_count": 35,
   "id": "a00b6b43",
   "metadata": {},
   "outputs": [
    {
     "name": "stdout",
     "output_type": "stream",
     "text": [
      "['사과', '딸기', '바나나', '포도']\n"
     ]
    }
   ],
   "source": [
    "sentence = \"사과 딸기 바나나 포도\"\n",
    "words = sentence.split()\n",
    "print(words)"
   ]
  },
  {
   "cell_type": "code",
   "execution_count": 41,
   "id": "96e14360",
   "metadata": {},
   "outputs": [
    {
     "name": "stdout",
     "output_type": "stream",
     "text": [
      "a\n",
      "{1: 'a', 2: '박길동'}\n",
      "{1: 'a', 2: '박길동', 'name': '김길동'}\n",
      "김길동\n",
      "{1: 'a', 2: '박길동'}\n"
     ]
    }
   ],
   "source": [
    "#dictionary\n",
    "a = {1: 'a'}\n",
    "print(a[1])\n",
    "a[2] = '박길동'\n",
    "print(a)\n",
    "a['name'] = '김길동'\n",
    "print(a)\n",
    "print(a['name'])\n",
    "del a['name']\n",
    "print(a)"
   ]
  },
  {
   "cell_type": "code",
   "execution_count": 47,
   "id": "e42a78d3",
   "metadata": {},
   "outputs": [
    {
     "name": "stdout",
     "output_type": "stream",
     "text": [
      "['name', 'phone', 'birth']\n",
      "name\n",
      "phone\n",
      "birth\n",
      "[('name', '홍길동'), ('phone', '010-1111-2222'), ('birth', '0520')]\n",
      "홍길동\n",
      "홍길동\n",
      "['홍길동', '010-1111-2222', '0520']\n"
     ]
    }
   ],
   "source": [
    "a = {'name': '홍길동', 'phone': '010-1111-2222', 'birth': '0520'}\n",
    "print(list(a.keys()))\n",
    "for k in a.keys():\n",
    "    print(k)\n",
    "print(list(a.items()))\n",
    "print(a['name'])\n",
    "print(a.get('name'))\n",
    "print(list(a.values()))"
   ]
  },
  {
   "cell_type": "code",
   "execution_count": 6,
   "id": "94bdc898",
   "metadata": {},
   "outputs": [
    {
     "name": "stdout",
     "output_type": "stream",
     "text": [
      "922\n"
     ]
    }
   ],
   "source": [
    "d = {'a':17, 'b': 114, 'c':247, 'd': 362, 'e':220, 'f':728, 'g':-283, 'h':922}\n",
    "# totalsum = list(d.values())\n",
    "# print(totalsum)\n",
    "for num in totalsum:\n",
    "    cal =+ num\n",
    "#cal += [num for num in totalsum ]\n",
    "\n",
    "print(cal)"
   ]
  },
  {
   "cell_type": "code",
   "execution_count": 59,
   "id": "8acba5b2",
   "metadata": {},
   "outputs": [
    {
     "name": "stdout",
     "output_type": "stream",
     "text": [
      "2327\n"
     ]
    }
   ],
   "source": [
    "total = 0\n",
    "for i in d.values():\n",
    "    total += i\n",
    "print(total)"
   ]
  },
  {
   "cell_type": "code",
   "execution_count": 1,
   "id": "7eb84f8b",
   "metadata": {},
   "outputs": [
    {
     "name": "stdout",
     "output_type": "stream",
     "text": [
      "합: 2327\n"
     ]
    }
   ],
   "source": [
    "d = {'a':17, 'b': 114, 'c':247, 'd': 362, 'e':220, 'f':728, 'g':-283, 'h':922}\n",
    "print(f'합: {sum(d.values())}')"
   ]
  },
  {
   "cell_type": "code",
   "execution_count": 2,
   "id": "122a71a4",
   "metadata": {},
   "outputs": [
    {
     "name": "stdout",
     "output_type": "stream",
     "text": [
      " result : 2327\n"
     ]
    }
   ],
   "source": [
    "print(f' result : {sum([d[item] for item in d])}')"
   ]
  },
  {
   "cell_type": "code",
   "execution_count": 3,
   "id": "d79c4b78",
   "metadata": {},
   "outputs": [
    {
     "name": "stdout",
     "output_type": "stream",
     "text": [
      " result : 2327\n"
     ]
    }
   ],
   "source": [
    "from functools import reduce\n",
    "print(f' result : {sum([d[item] for item in d])}')"
   ]
  },
  {
   "cell_type": "code",
   "execution_count": 68,
   "id": "cccd5452",
   "metadata": {},
   "outputs": [
    {
     "name": "stdout",
     "output_type": "stream",
     "text": [
      " result : 2327\n"
     ]
    }
   ],
   "source": [
    "from functools import reduce\n",
    "print(f' result : {reduce(lambda x,y: x+y, d.values())}')"
   ]
  },
  {
   "cell_type": "code",
   "execution_count": 18,
   "id": "339033bd",
   "metadata": {},
   "outputs": [
    {
     "name": "stdout",
     "output_type": "stream",
     "text": [
      "dict_keys(['a', 'b', 'c', 'd', 'e', 'f']):dict_values([8, 33, 15, 26, 12, 120])\n",
      "dict_keys(['a', 'b', 'c', 'd', 'e', 'f']):dict_values([8, 33, 15, 26, 12, 120])\n",
      "dict_keys(['a', 'b', 'c', 'd', 'e', 'f']):dict_values([8, 33, 15, 26, 12, 120])\n"
     ]
    }
   ],
   "source": [
    "d = {'a': 8, 'b':33, 'c':15, 'd': 26, 'e': 12, 'f': 120 }\n",
    "res = {}\n",
    "\n",
    "for i in d.values():\n",
    "    if i >= 25:\n",
    "        print(f'{d.keys()}:{d.values()}')\n",
    "    else:\n",
    "        continue\n",
    "# print(f'결과: {d} if d.value() >= 25')\n",
    "#print(i)"
   ]
  },
  {
   "cell_type": "code",
   "execution_count": 19,
   "id": "c7895ddc",
   "metadata": {},
   "outputs": [
    {
     "name": "stdout",
     "output_type": "stream",
     "text": [
      "ex1 : {'b': 33, 'd': 26, 'f': 120}\n"
     ]
    }
   ],
   "source": [
    "d = {'a': 8, 'b':33, 'c':15, 'd': 26, 'e': 12, 'f': 120 }\n",
    "\n",
    "ex1 = {}\n",
    "\n",
    "for k, v in d.items():\n",
    "    if v >= 25:\n",
    "        ex1[k] =v\n",
    "        \n",
    "print(f'ex1 : {ex1}')"
   ]
  },
  {
   "cell_type": "code",
   "execution_count": 20,
   "id": "16bae72f",
   "metadata": {},
   "outputs": [
    {
     "name": "stdout",
     "output_type": "stream",
     "text": [
      "ex2: {'b': 33, 'd': 26, 'f': 120}\n"
     ]
    }
   ],
   "source": [
    "ex2 = {k: v for k, v in d.items() if v >= 25}\n",
    "\n",
    "print(f'ex2: {ex2}')"
   ]
  },
  {
   "cell_type": "code",
   "execution_count": 22,
   "id": "54102f16",
   "metadata": {},
   "outputs": [
    {
     "name": "stdout",
     "output_type": "stream",
     "text": [
      "ex3: {'b': 33, 'd': 26, 'f': 120}\n"
     ]
    }
   ],
   "source": [
    "ex3 = dict(filter(lambda v: v[1] >= 25, d.items())) #v[0] == key\n",
    "print(f'ex3: {ex3}')"
   ]
  },
  {
   "cell_type": "code",
   "execution_count": 26,
   "id": "078f9004",
   "metadata": {},
   "outputs": [
    {
     "name": "stdout",
     "output_type": "stream",
     "text": [
      "30\n"
     ]
    }
   ],
   "source": [
    "def add(a, b):\n",
    "    return a + b\n",
    "print(add(10, 20))"
   ]
  },
  {
   "cell_type": "code",
   "execution_count": 28,
   "id": "a5ba5f41",
   "metadata": {},
   "outputs": [
    {
     "name": "stdout",
     "output_type": "stream",
     "text": [
      "15\n",
      "55\n"
     ]
    }
   ],
   "source": [
    "def add_many(*args):\n",
    "    result = 0\n",
    "    for i in args:\n",
    "        result += i\n",
    "    return result\n",
    "\n",
    "print(add_many(1, 2, 3, 4, 5))\n",
    "print(add_many(1, 2, 3, 4, 5, 6, 7, 8, 9, 10))\n"
   ]
  },
  {
   "cell_type": "code",
   "execution_count": 29,
   "id": "933f1098",
   "metadata": {},
   "outputs": [
    {
     "name": "stdout",
     "output_type": "stream",
     "text": [
      "{'name': 'a', 'age': '20'}\n",
      "None\n"
     ]
    }
   ],
   "source": [
    "def print_kwargs(**kwargs):\n",
    "    print(kwargs)\n",
    "    \n",
    "print(print_kwargs(name = 'a', age='20'))"
   ]
  },
  {
   "cell_type": "code",
   "execution_count": 30,
   "id": "e6cd282c",
   "metadata": {},
   "outputs": [
    {
     "name": "stdout",
     "output_type": "stream",
     "text": [
      "(7, 12)\n"
     ]
    }
   ],
   "source": [
    "def add_and_mul(a, b):\n",
    "    return a +b, a*b\n",
    "\n",
    "result = add_and_mul(3,4)\n",
    "print(result)"
   ]
  },
  {
   "cell_type": "code",
   "execution_count": 31,
   "id": "be002072",
   "metadata": {},
   "outputs": [
    {
     "name": "stdout",
     "output_type": "stream",
     "text": [
      "7 12\n"
     ]
    }
   ],
   "source": [
    "def add_and_mul(a, b):\n",
    "    return a +b, a*b\n",
    "\n",
    "result1, result2 = add_and_mul(3,4)\n",
    "print(result1, result2)"
   ]
  },
  {
   "cell_type": "code",
   "execution_count": 38,
   "id": "84166077",
   "metadata": {},
   "outputs": [
    {
     "name": "stdout",
     "output_type": "stream",
     "text": [
      "dict_items([('a', 1), ('b', 3), ('c', 5)])\n",
      "원래 키와 val로 재구성한 딕셔너리: {'a': 3, 'b': 5}\n"
     ]
    }
   ],
   "source": [
    "ex_dict = {'a': 1, 'b':3, 'c': 5}\n",
    "\n",
    "# val = ex_dict.values()\n",
    "val = [n for n in val if n >2]\n",
    "print(ex_dict.items())\n",
    "# print([n for n in val if n >2])\n",
    "# print(f\"ex_dict.items(): {ex_dict.items()}\")\n",
    "# print(f\"val: {val}\")\n",
    "re_dict = dict(zip(ex_dict.keys(), val))\n",
    "print(f\"원래 키와 val로 재구성한 딕셔너리: {re_dict}\")"
   ]
  },
  {
   "cell_type": "code",
   "execution_count": 49,
   "id": "136c90d2",
   "metadata": {},
   "outputs": [
    {
     "name": "stdout",
     "output_type": "stream",
     "text": [
      "2\n"
     ]
    }
   ],
   "source": [
    "a = 1\n",
    "def vargest(a):\n",
    "    a = a + 1  \n",
    "    # 지역변수\n",
    "    return a\n",
    "    \n",
    "# vargest(a)\n",
    "a = vargest(a)\n",
    "print(a)\n",
    "    "
   ]
  },
  {
   "cell_type": "code",
   "execution_count": 50,
   "id": "3df487d9",
   "metadata": {},
   "outputs": [
    {
     "name": "stdout",
     "output_type": "stream",
     "text": [
      "2\n"
     ]
    }
   ],
   "source": [
    "a = 1\n",
    "def vargest():\n",
    "    global a\n",
    "    a = a + 1  \n",
    "    # 전역변수\n",
    "    # return a\n",
    "vargest()\n",
    "print(a)"
   ]
  },
  {
   "cell_type": "code",
   "execution_count": 54,
   "id": "6f6843f7",
   "metadata": {},
   "outputs": [
    {
     "name": "stdout",
     "output_type": "stream",
     "text": [
      "ex1 : 20\n",
      "ex2 : 100\n",
      "ex3 : 100\n",
      "ex4 : 35\n",
      "ex5 : 35\n"
     ]
    }
   ],
   "source": [
    "a = 20\n",
    "\n",
    "def test():\n",
    "    global a\n",
    "    print(f'ex3 : {a}') #100\n",
    "    \n",
    "    a = 35\n",
    "    return a\n",
    "print(f'ex1 : {a}')  #20\n",
    "a = 100\n",
    "print(f'ex2 : {a}') #100\n",
    "print(f'ex4 : {test()}') #35\n",
    "print(f'ex5 : {a}')# 35\n"
   ]
  },
  {
   "cell_type": "code",
   "execution_count": 68,
   "id": "21ac8fa7",
   "metadata": {},
   "outputs": [
    {
     "name": "stdout",
     "output_type": "stream",
     "text": [
      "['suppose', 'we', 'have', 'few', 'words', 'that', 'are', 'separated', 'by', 'spaces']\n",
      "리스트의 길이: 10\n"
     ]
    }
   ],
   "source": [
    "in_str = 'suppose we have few words that are separated by spaces'\n",
    "in_list = in_str.split()\n",
    "print(in_list)\n",
    "# print(f'원래 문자열: {in_str}')\n",
    "# print(f'리스트: {in_list}')\n",
    "print(f'리스트의 길이: {len(in_list)}')\n",
    "# print(f'리스트의 첫번째 단어: {in_list[0]}')\n"
   ]
  },
  {
   "cell_type": "code",
   "execution_count": 70,
   "id": "d422ba53",
   "metadata": {},
   "outputs": [
    {
     "name": "stdout",
     "output_type": "stream",
     "text": [
      "['a', 100, 'c']\n",
      "['a', 100, 'c']\n"
     ]
    }
   ],
   "source": [
    "list1 = ['a', 'b', 'c']\n",
    "list2 = list1\n",
    "\n",
    "list2[1] = 100\n",
    "print(list1)\n",
    "print(list2)"
   ]
  },
  {
   "cell_type": "code",
   "execution_count": 71,
   "id": "6fb2e1cc",
   "metadata": {},
   "outputs": [
    {
     "name": "stdout",
     "output_type": "stream",
     "text": [
      "['a', 'b', 'c']\n",
      "['a', 100, 'c']\n"
     ]
    }
   ],
   "source": [
    "list1 = ['a', 'b', 'c']\n",
    "list2 = list1.copy()\n",
    "\n",
    "list2[1] = 100\n",
    "print(list1)\n",
    "print(list2)"
   ]
  },
  {
   "cell_type": "code",
   "execution_count": 73,
   "id": "4a2fb367",
   "metadata": {},
   "outputs": [
    {
     "name": "stdout",
     "output_type": "stream",
     "text": [
      "1번 학생의 점수는88점입니다.\n",
      "2번 학생의 점수는75점입니다.\n",
      "3번 학생의 점수는70점입니다.\n",
      "4번 학생의 점수는100점입니다.\n",
      "5번 학생의 점수는99점입니다.\n"
     ]
    }
   ],
   "source": [
    "#enumerate() => 인덱스와 원소를 쌍으로 묶어줌\n",
    " # : iterable한 객체를 인덱스와 원소를 쌍으로 묶어주는 함수\n",
    "list1 = ['a', 'b', 'c']\n",
    "score = [88, 75, 70, 100, 99]\n",
    "\n",
    "for no, s in enumerate(score, start=1):\n",
    "    # print(f'{no}번 학생의 점수는 {s}점입니다.')\n",
    "    print(str(no) + '번 학생의 점수는' + str(s) + '점입니다.')\n",
    "        "
   ]
  },
  {
   "cell_type": "code",
   "execution_count": 77,
   "id": "3d7bc511",
   "metadata": {},
   "outputs": [
    {
     "name": "stdout",
     "output_type": "stream",
     "text": [
      "일요일의 메뉴: 김치찌개\n",
      "월요일의 메뉴: 된장찌개\n",
      "화요일의 메뉴: 부대찌개\n",
      "수요일의 메뉴: 비빔밥\n",
      "목요일의 메뉴: 불고기\n",
      "금요일의 메뉴: 갈비찜\n",
      "토요일의 메뉴: 잡채\n"
     ]
    }
   ],
   "source": [
    "yoil = ['일', '월', '화', '수', '목', '금', '토']\n",
    "food = ['김치찌개', '된장찌개', '부대찌개', '비빔밥', '불고기', '갈비찜', '잡채']\n",
    "menu = zip(yoil, food)\n",
    "\n",
    "for y, f in menu:\n",
    "    # print(f'{y}요일의 메뉴는 {food[i]}입니다.') \n",
    "    print('%s요일의 메뉴: %s' %(y, f))"
   ]
  },
  {
   "cell_type": "code",
   "execution_count": 96,
   "id": "832cd9ca",
   "metadata": {},
   "outputs": [],
   "source": [
    "f = open('newText.txt', 'w')\n",
    "for i in range(1, 11):\n",
    "    data = '%d번째 줄입니다.\\n' % i\n",
    "    f.write(data)\n",
    "f.close()"
   ]
  },
  {
   "cell_type": "code",
   "execution_count": 82,
   "id": "4269ed18",
   "metadata": {},
   "outputs": [
    {
     "name": "stdout",
     "output_type": "stream",
     "text": [
      "1번째 줄입니다.\n",
      "\n"
     ]
    }
   ],
   "source": [
    "f = open('newText.txt', 'r')\n",
    "line = f.readline() # 한 줄 읽기\n",
    "print(line)\n",
    "f.close()"
   ]
  },
  {
   "cell_type": "code",
   "execution_count": 85,
   "id": "6ed35241",
   "metadata": {},
   "outputs": [
    {
     "name": "stdout",
     "output_type": "stream",
     "text": [
      "1번째 줄입니다.\n",
      "2번째 줄입니다.\n",
      "3번째 줄입니다.\n",
      "4번째 줄입니다.\n",
      "5번째 줄입니다.\n",
      "6번째 줄입니다.\n",
      "7번째 줄입니다.\n",
      "8번째 줄입니다.\n",
      "9번째 줄입니다.\n",
      "10번째 줄입니다.\n"
     ]
    }
   ],
   "source": [
    "f = open('newText.txt', 'r')\n",
    "lines = f.readlines() # 여러 줄 읽기\n",
    "for line in lines:\n",
    "    line = line.strip() # 줄바꿈 문자 제거\n",
    "    print(line)   \n",
    "f.close()"
   ]
  },
  {
   "cell_type": "code",
   "execution_count": 97,
   "id": "0c10dfd6",
   "metadata": {},
   "outputs": [],
   "source": [
    "f = open('newText.txt', 'a')\n",
    "for i in range(11, 21):\n",
    "    data = '%d번째 줄입니다.\\n' % i\n",
    "    f.write(data)\n",
    "f.close()"
   ]
  },
  {
   "cell_type": "code",
   "execution_count": 98,
   "id": "d82882a7",
   "metadata": {},
   "outputs": [
    {
     "name": "stdout",
     "output_type": "stream",
     "text": [
      "1번째 줄입니다.\n",
      "2번째 줄입니다.\n",
      "3번째 줄입니다.\n",
      "4번째 줄입니다.\n",
      "5번째 줄입니다.\n",
      "6번째 줄입니다.\n",
      "7번째 줄입니다.\n",
      "8번째 줄입니다.\n",
      "9번째 줄입니다.\n",
      "10번째 줄입니다.\n",
      "11번째 줄입니다.\n",
      "12번째 줄입니다.\n",
      "13번째 줄입니다.\n",
      "14번째 줄입니다.\n",
      "15번째 줄입니다.\n",
      "16번째 줄입니다.\n",
      "17번째 줄입니다.\n",
      "18번째 줄입니다.\n",
      "19번째 줄입니다.\n",
      "20번째 줄입니다.\n"
     ]
    }
   ],
   "source": [
    "f = open('newText.txt', 'r')\n",
    "lines = f.readlines() # 여러 줄 읽기\n",
    "for line in lines:\n",
    "    line = line.strip() # 줄바꿈 문자 제거\n",
    "    print(line)   \n",
    "f.close()"
   ]
  },
  {
   "cell_type": "code",
   "execution_count": 99,
   "id": "a9aee65e",
   "metadata": {},
   "outputs": [],
   "source": [
    "with open('foo.txt', 'w') as f:\n",
    "    f.write('Life is too short!\\n')\n",
    "    f.write('Python is great.\\n')\n",
    "    f.write('I love programming.\\n')"
   ]
  },
  {
   "cell_type": "code",
   "execution_count": 101,
   "id": "75c3f554",
   "metadata": {},
   "outputs": [
    {
     "name": "stdout",
     "output_type": "stream",
     "text": [
      "Life is too short!\n",
      "Python is great.\n",
      "I love programming.\n"
     ]
    }
   ],
   "source": [
    "with open('foo.txt', 'r') as f:\n",
    "    lines = f.readlines() # 여러 줄 읽기\n",
    "for line in lines:\n",
    "    line = line.strip() # 줄바꿈 문자 제거\n",
    "    print(line) \n",
    "      \n"
   ]
  },
  {
   "cell_type": "code",
   "execution_count": 135,
   "id": "8f06bdf0",
   "metadata": {},
   "outputs": [
    {
     "name": "stdout",
     "output_type": "stream",
     "text": [
      "total: 73\n"
     ]
    }
   ],
   "source": [
    "import re\n",
    "total = 0\n",
    "with open('text.txt', 'r') as t:\n",
    "    lines = t.readlines()\n",
    "    for line in lines:\n",
    "        line = line.strip()\n",
    "        # print(line)\n",
    "        words = re.split(r'[\\s|,]+', line)\n",
    "        count = len(words)\n",
    "        # print(f'count: {count}')\n",
    "        total += count\n",
    "print(f'total: {total}')\n",
    "        # print(words)    \n",
    "        \n",
    "    #     comma = re.split(r'[,]+', line)\n",
    "    #     count = len(comma)\n",
    "    # print(f'count: {count}')\n",
    "# print(f'comma: {comma}')"
   ]
  },
  {
   "cell_type": "code",
   "execution_count": 137,
   "id": "f6a8eee5",
   "metadata": {},
   "outputs": [
    {
     "name": "stdout",
     "output_type": "stream",
     "text": [
      "\n",
      "총 단어 개수: 73\n"
     ]
    }
   ],
   "source": [
    "total = 0\n",
    "\n",
    "with open('text.txt', 'r') as t:\n",
    "    lines = t.readlines()\n",
    "    for line in lines:\n",
    "        line = line.strip() # 각 줄의 양쪽 공백(줄바꿈 포함) 제거\n",
    "\n",
    "        if not line: # 빈 줄은 건너뛰기\n",
    "            continue\n",
    "\n",
    "        # 1. 먼저 모든 콤마(,)를 공백으로 바꿉니다.\n",
    "        #    이렇게 하면 콤마도 단어의 구분자 역할을 하게 됩니다.\n",
    "        processed_line = line.replace(',', ' ')\n",
    "\n",
    "        # 2. 공백을 기준으로 문자열을 나눕니다.\n",
    "        #    split()에 인자를 주지 않으면 여러 개의 공백도 하나의 구분자로 처리하여\n",
    "        #    결과 리스트에 빈 문자열이 포함되지 않습니다.\n",
    "        words = processed_line.split()\n",
    "\n",
    "        count = len(words) # 현재 줄의 단어 개수\n",
    "        # print(f\"줄: '{line}'\")\n",
    "        # print(f\"  단어들: {words}\")\n",
    "        # print(f\"  이 줄의 단어 개수: {count}\\n\")\n",
    "\n",
    "        total += count\n",
    "\n",
    "print(f'\\n총 단어 개수: {total}')"
   ]
  },
  {
   "cell_type": "code",
   "execution_count": 144,
   "id": "865ae47d",
   "metadata": {},
   "outputs": [
    {
     "name": "stdout",
     "output_type": "stream",
     "text": [
      "ex1 :  72\n"
     ]
    }
   ],
   "source": [
    "def cnt_word1(filepath):\n",
    "    with open(filepath, 'r') as f:\n",
    "        txt = f.read()\n",
    "        \n",
    "    txt = txt.replace(',', ' ')\n",
    "    # print(txt)\n",
    "    txt_list = txt.split(\" \")\n",
    "    return len(txt_list)\n",
    "        \n",
    "# cnt_word1('text.txt')\n",
    "print(f'ex1 :  {cnt_word1(\"text.txt\")}')"
   ]
  },
  {
   "cell_type": "code",
   "execution_count": null,
   "id": "e777caac",
   "metadata": {},
   "outputs": [
    {
     "name": "stdout",
     "output_type": "stream",
     "text": [
      "ex2 :  72\n"
     ]
    }
   ],
   "source": [
    "import re\n",
    "def cnt_word2(filepath):\n",
    "    with open(filepath, 'r') as f:\n",
    "        txt = f.read()\n",
    "        \n",
    "    txt_list = re.split(\" |,\", txt)\n",
    "    return len(txt_list)\n",
    "        \n",
    "print(f'ex2 :  {cnt_word2(\"text.txt\")}')"
   ]
  },
  {
   "cell_type": "code",
   "execution_count": 154,
   "id": "d39cdb18",
   "metadata": {},
   "outputs": [
    {
     "name": "stdout",
     "output_type": "stream",
     "text": [
      "result: {'one': 156.0, 'two': 148.0, 'three': 54.0, 'four': 315.0}\n"
     ]
    }
   ],
   "source": [
    "a = [\"one\", \"two\", \"three\",\"four\"]\n",
    "b = [30, 20, 15, 75]\n",
    "c = [5.2, 7.4, 3.6, 4.2]\n",
    "\n",
    "res = list(zip(a, b, c))\n",
    "result = {}\n",
    "for k, v1, v2 in res:\n",
    "    mult = v1 * v2\n",
    "    result[k] = mult\n",
    "        \n",
    "\n",
    "res_com = {k: v1*v2 for k, v1, v2 in zip(a, b, c)}\n",
    "print(f'result: {result}')\n"
   ]
  },
  {
   "cell_type": "code",
   "execution_count": null,
   "id": "406b44f5",
   "metadata": {},
   "outputs": [
    {
     "name": "stdout",
     "output_type": "stream",
     "text": [
      "ex1:  {'one': 156.0, 'two': 148.0, 'three': 54.0, 'four': 315.0}\n"
     ]
    }
   ],
   "source": [
    "result = {}\n",
    "for x, y, z in zip(a, b, c):\n",
    "    result[x] = y * z\n",
    "print(f'ex1: ', result)"
   ]
  },
  {
   "cell_type": "code",
   "execution_count": 157,
   "id": "3850a5d1",
   "metadata": {},
   "outputs": [
    {
     "name": "stdout",
     "output_type": "stream",
     "text": [
      "ex2:  {'one': 156.0, 'two': 148.0, 'three': 54.0, 'four': 315.0}\n"
     ]
    }
   ],
   "source": [
    "print(f'ex2: ', {x: y * z for x, y, z in zip(a, b, c)})"
   ]
  },
  {
   "cell_type": "code",
   "execution_count": 166,
   "id": "293981cf",
   "metadata": {},
   "outputs": [
    {
     "name": "stdout",
     "output_type": "stream",
     "text": [
      "[['A', 'B', 'C'], ['D', 'E', 'F'], ['G', 'H', 'I'], ['J', 'K', 'L'], ['M', 'N', 'O'], ['P', 'Q', 'R'], ['S', 'T', 'U'], ['V', 'W', 'X'], ['Y', 'Z']]\n",
      "[['A', 'B', 'C', 'D', 'E'], ['F', 'G', 'H', 'I', 'J'], ['K', 'L', 'M', 'N', 'O'], ['P', 'Q', 'R', 'S', 'T'], ['U', 'V', 'W', 'X', 'Y'], ['Z']]\n"
     ]
    }
   ],
   "source": [
    "x = ['A', 'B', 'C', 'D', 'E', 'F', 'G', 'H', 'I', 'J', 'K', 'L', 'M', 'N', 'O', 'P', 'Q', 'R', 'S', 'T', 'U', 'V', 'W', 'X', 'Y', 'Z']\n",
    "step1 = 3\n",
    "step2 = 5\n",
    "# three = x.split(3)\n",
    "# print(three)\n",
    "# three = []\n",
    "# for i in range(0, len(x), step):\n",
    "#     three.append(x[i:i+step])\n",
    "#     # print(x[i:i+step])\n",
    "# print(three)\n",
    "three = [x[i:i+step1] for i in range(0, len(x), step1)]\n",
    "five = [x[i:i+step2] for i in range(0, len(x), step2)]\n",
    "print(three)\n",
    "print(five)"
   ]
  },
  {
   "cell_type": "code",
   "execution_count": 169,
   "id": "01ce11b6",
   "metadata": {},
   "outputs": [
    {
     "name": "stdout",
     "output_type": "stream",
     "text": [
      "ex1_3 :  [['A', 'B', 'C'], ['D', 'E', 'F'], ['G', 'H', 'I'], ['J', 'K', 'L'], ['M', 'N', 'O'], ['P', 'Q', 'R'], ['S', 'T', 'U'], ['V', 'W', 'X'], ['Y', 'Z']]\n",
      "ex1_5 :  [['A', 'B', 'C', 'D', 'E'], ['F', 'G', 'H', 'I', 'J'], ['K', 'L', 'M', 'N', 'O'], ['P', 'Q', 'R', 'S', 'T'], ['U', 'V', 'W', 'X', 'Y'], ['Z']]\n"
     ]
    }
   ],
   "source": [
    "def split_n_list(split_size=3):\n",
    "    split_list = list()\n",
    "    \n",
    "    for i in range(0, len(x), split_size):\n",
    "        # print(i, i+split_size)\n",
    "        split_list.append(x[i:i+split_size])\n",
    "    return split_list\n",
    "# split_n_list()\n",
    "print('ex1_3 : ', split_n_list(3))\n",
    "print('ex1_5 : ', split_n_list(5))\n",
    "\n"
   ]
  },
  {
   "cell_type": "code",
   "execution_count": null,
   "id": "1b7f1af6",
   "metadata": {},
   "outputs": [],
   "source": []
  }
 ],
 "metadata": {
  "kernelspec": {
   "display_name": "Python 3",
   "language": "python",
   "name": "python3"
  },
  "language_info": {
   "codemirror_mode": {
    "name": "ipython",
    "version": 3
   },
   "file_extension": ".py",
   "mimetype": "text/x-python",
   "name": "python",
   "nbconvert_exporter": "python",
   "pygments_lexer": "ipython3",
   "version": "3.11.9"
  }
 },
 "nbformat": 4,
 "nbformat_minor": 5
}

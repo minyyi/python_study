{
 "cells": [
  {
   "cell_type": "code",
   "execution_count": 3,
   "id": "44d9fa6f-f7a0-493a-8565-1e847640163a",
   "metadata": {},
   "outputs": [
    {
     "name": "stdout",
     "output_type": "stream",
     "text": [
      "5\n"
     ]
    }
   ],
   "source": [
    "print(2+3)"
   ]
  },
  {
   "cell_type": "code",
   "execution_count": 4,
   "id": "36ff50cc-651e-40ee-a050-c269374b4157",
   "metadata": {},
   "outputs": [
    {
     "name": "stdout",
     "output_type": "stream",
     "text": [
      "5\n"
     ]
    }
   ],
   "source": [
    "print(2+3)"
   ]
  },
  {
   "cell_type": "code",
   "execution_count": 8,
   "id": "7bf3d008-a6f2-49d6-bee5-ccc72094d2b6",
   "metadata": {},
   "outputs": [
    {
     "name": "stdout",
     "output_type": "stream",
     "text": [
      "서울   대전   대구   부산\n"
     ]
    }
   ],
   "source": [
    "#printsetup\n",
    "s = '서울'\n",
    "d = '대전'\n",
    "g = '대구'\n",
    "b = '부산'\n",
    "print(s, d, g, b, sep='   ')"
   ]
  },
  {
   "cell_type": "code",
   "execution_count": 12,
   "id": "3f680361-29cf-45c6-89b7-a4461c574d15",
   "metadata": {},
   "outputs": [
    {
     "name": "stdout",
     "output_type": "stream",
     "text": [
      "강아지 고양이\n"
     ]
    }
   ],
   "source": [
    "a = '강아지'\n",
    "b = '고양이'\n",
    "print(a, end = ' ')\n",
    "print(b)"
   ]
  },
  {
   "cell_type": "code",
   "execution_count": 13,
   "id": "14c9a83a-d397-465c-ae78-d8f790787dce",
   "metadata": {},
   "outputs": [
    {
     "name": "stdin",
     "output_type": "stream",
     "text": [
      "이름을 입력하세요 :  s\n"
     ]
    },
    {
     "name": "stdout",
     "output_type": "stream",
     "text": [
      "안녕하세요 s 님\n"
     ]
    }
   ],
   "source": [
    "name = input('이름을 입력하세요 : ')\n",
    "print ('안녕하세요', name, '님')"
   ]
  },
  {
   "cell_type": "code",
   "execution_count": 14,
   "id": "f1b5b4d0-396d-4b4f-91c3-67d83dc56f3a",
   "metadata": {},
   "outputs": [
    {
     "name": "stdout",
     "output_type": "stream",
     "text": [
      "\n",
      "    오늘은 python 첫 수업\n",
      "    내일은 두 번째\n",
      "    모레는 세번쩨\n",
      "\n"
     ]
    }
   ],
   "source": [
    "s = \"\"\"\n",
    "    오늘은 python 첫 수업\n",
    "    내일은 두 번째\n",
    "    모레는 세번쩨\n",
    "\"\"\"\n",
    "print(s)"
   ]
  },
  {
   "cell_type": "code",
   "execution_count": 15,
   "id": "c2707db2-2143-4da0-86f8-6cc472d7e037",
   "metadata": {},
   "outputs": [
    {
     "name": "stdout",
     "output_type": "stream",
     "text": [
      "koreajapanUSA\n"
     ]
    }
   ],
   "source": [
    "s = \"korea\" \"japan\" \"USA\"\n",
    "print(s)"
   ]
  },
  {
   "cell_type": "code",
   "execution_count": 18,
   "id": "75e0538a-132f-4295-95ac-d67f68090250",
   "metadata": {},
   "outputs": [
    {
     "name": "stdin",
     "output_type": "stream",
     "text": [
      "가격을 입력하세요:  1000\n",
      "수량을 입력하세요:  5\n"
     ]
    },
    {
     "name": "stdout",
     "output_type": "stream",
     "text": [
      "총액은 5000 원 입니다.\n"
     ]
    }
   ],
   "source": [
    "price = int(input('가격을 입력하세요: '))\n",
    "num = int(input('수량을 입력하세요: '))\n",
    "sum = price * num\n",
    "print('총액은', sum, '원 입니다.')\n"
   ]
  },
  {
   "cell_type": "code",
   "execution_count": 22,
   "id": "45a807d4-2937-4bf4-95fb-6ddf1f42b8dc",
   "metadata": {},
   "outputs": [
    {
     "name": "stdout",
     "output_type": "stream",
     "text": [
      "Python's favorite \n",
      " food is perl\n"
     ]
    }
   ],
   "source": [
    "print('Python\\'s favorite \\n food is perl')"
   ]
  },
  {
   "cell_type": "code",
   "execution_count": 24,
   "id": "67c89933-84c7-42d4-be6f-1cc29499c664",
   "metadata": {},
   "outputs": [
    {
     "name": "stdout",
     "output_type": "stream",
     "text": [
      "pythonpythonpythonpythonpython\n"
     ]
    }
   ],
   "source": [
    "a = 'python'\n",
    "print(a * 5 )"
   ]
  },
  {
   "cell_type": "code",
   "execution_count": 26,
   "id": "a195a8ce-6fd4-444b-b5f3-c400d9fed4e9",
   "metadata": {},
   "outputs": [
    {
     "name": "stdout",
     "output_type": "stream",
     "text": [
      "34\n"
     ]
    }
   ],
   "source": [
    "a = 'Life is too shortm You need Python'\n",
    "print(len(a))"
   ]
  },
  {
   "cell_type": "code",
   "execution_count": 30,
   "id": "c485f2e1-2f3f-4d18-847c-03f1d0db7af4",
   "metadata": {},
   "outputs": [
    {
     "name": "stdout",
     "output_type": "stream",
     "text": [
      "L i f e n o\n"
     ]
    }
   ],
   "source": [
    "print(a[0],a[1],a[2],a[3],a[-1], a[-2] )"
   ]
  },
  {
   "cell_type": "code",
   "execution_count": 33,
   "id": "d04fa933-7df2-4361-aac0-bf42bd4a972e",
   "metadata": {},
   "outputs": [
    {
     "name": "stdout",
     "output_type": "stream",
     "text": [
      "Life\n"
     ]
    }
   ],
   "source": [
    "print(a[0:4])\n",
    "#slicing"
   ]
  },
  {
   "cell_type": "code",
   "execution_count": 34,
   "id": "7ed8755d-01bd-4d10-b1a2-ab0a7123403d",
   "metadata": {},
   "outputs": [
    {
     "name": "stdout",
     "output_type": "stream",
     "text": [
      "short\n"
     ]
    }
   ],
   "source": [
    "print(a[12:17])"
   ]
  },
  {
   "cell_type": "code",
   "execution_count": 35,
   "id": "94034e58-e539-4725-a0d5-f06245530668",
   "metadata": {},
   "outputs": [
    {
     "name": "stdout",
     "output_type": "stream",
     "text": [
      "Life is too short\n"
     ]
    }
   ],
   "source": [
    "print(a[:17])"
   ]
  },
  {
   "cell_type": "code",
   "execution_count": 41,
   "id": "b064187e-8d88-41e5-962d-eb5d38c71625",
   "metadata": {},
   "outputs": [
    {
     "name": "stdout",
     "output_type": "stream",
     "text": [
      "20255021 Rainy\n"
     ]
    }
   ],
   "source": [
    "a = '202550219Rainy'\n",
    "date = a[:8]\n",
    "weather = a[9:]\n",
    "print(date, weather)"
   ]
  },
  {
   "cell_type": "code",
   "execution_count": 70,
   "id": "c5bdfc6d-2ac1-4435-b0d3-6965c5f00e10",
   "metadata": {},
   "outputs": [
    {
     "ename": "TypeError",
     "evalue": "'str' object does not support item assignment",
     "output_type": "error",
     "traceback": [
      "\u001b[31m---------------------------------------------------------------------------\u001b[39m",
      "\u001b[31mTypeError\u001b[39m                                 Traceback (most recent call last)",
      "\u001b[36mCell\u001b[39m\u001b[36m \u001b[39m\u001b[32mIn[70]\u001b[39m\u001b[32m, line 2\u001b[39m\n\u001b[32m      1\u001b[39m a = \u001b[33m'\u001b[39m\u001b[33mpithon\u001b[39m\u001b[33m'\u001b[39m\n\u001b[32m----> \u001b[39m\u001b[32m2\u001b[39m \u001b[43ma\u001b[49m\u001b[43m[\u001b[49m\u001b[32;43m1\u001b[39;49m\u001b[43m]\u001b[49m = \u001b[33m'\u001b[39m\u001b[33my\u001b[39m\u001b[33m'\u001b[39m\n",
      "\u001b[31mTypeError\u001b[39m: 'str' object does not support item assignment"
     ]
    }
   ],
   "source": [
    "a = 'pithon'\n",
    "a[1] = 'y'"
   ]
  },
  {
   "cell_type": "code",
   "execution_count": 44,
   "id": "ef82cf62-bb0b-4cee-bba0-b70c245a6a9c",
   "metadata": {},
   "outputs": [
    {
     "name": "stdout",
     "output_type": "stream",
     "text": [
      "현재온도는 18도 입니다. \n"
     ]
    }
   ],
   "source": [
    "#문자열 포매팅\n",
    "#\" 현재 온도는 18도 입니다.'\n",
    "a = 18\n",
    "print('현재온도는 %d도 입니다. ' %a)"
   ]
  },
  {
   "cell_type": "code",
   "execution_count": 57,
   "id": "8f959161-7dcc-4608-a585-72eb5e2287e9",
   "metadata": {},
   "outputs": [
    {
     "name": "stdout",
     "output_type": "stream",
     "text": [
      "I ate five apple, 3 banana\n"
     ]
    }
   ],
   "source": [
    "a = 'five'\n",
    "b = 3\n",
    "print ('I ate %s apple, %d banana' %(a, b))"
   ]
  },
  {
   "cell_type": "code",
   "execution_count": 52,
   "id": "c47d1bfe-5489-45bd-84d5-5bc7ba97972e",
   "metadata": {},
   "outputs": [
    {
     "name": "stdout",
     "output_type": "stream",
     "text": [
      "3.14\n"
     ]
    }
   ],
   "source": [
    "print('%0.2f' %3.1434346)"
   ]
  },
  {
   "cell_type": "code",
   "execution_count": 53,
   "id": "453fcb81-6730-480b-8531-e53b1019fcb3",
   "metadata": {},
   "outputs": [
    {
     "name": "stdout",
     "output_type": "stream",
     "text": [
      "I eat five apple, 3 banana\n"
     ]
    }
   ],
   "source": [
    "print('I eat {0} apple, {1} banana'.format('five',3))"
   ]
  },
  {
   "cell_type": "code",
   "execution_count": 55,
   "id": "bf6c805f-79d3-437c-ab42-6f8a8eb6f5da",
   "metadata": {},
   "outputs": [
    {
     "name": "stdout",
     "output_type": "stream",
     "text": [
      "I eat num apple, number banana\n"
     ]
    }
   ],
   "source": [
    "print('I eat num apple, number banana'.format(num = 'five',number = 3))"
   ]
  },
  {
   "cell_type": "code",
   "execution_count": 56,
   "id": "b6e5c157-e409-4689-957d-ae146d48ad53",
   "metadata": {},
   "outputs": [
    {
     "name": "stdout",
     "output_type": "stream",
     "text": [
      "My name is 홍길동. age is 20.\n"
     ]
    }
   ],
   "source": [
    "name = '홍길동'\n",
    "age = 20\n",
    "print(f'My name is {name}. age is {age}.')"
   ]
  },
  {
   "cell_type": "code",
   "execution_count": 58,
   "id": "38809456-b0df-46d1-a3af-c925d6de3b63",
   "metadata": {},
   "outputs": [],
   "source": [
    "#print(a, b, c)\n",
    "#print('  %d  $s   ' %(a,b))\n",
    "#print(' {0}   {1}   ' .format(a, b))\n",
    "#print(f' {name}   {age}   ')"
   ]
  },
  {
   "cell_type": "code",
   "execution_count": 60,
   "id": "ac0fb823-9412-46fa-8a79-f0052a29c046",
   "metadata": {},
   "outputs": [
    {
     "name": "stdout",
     "output_type": "stream",
     "text": [
      "<class 'str'>\n"
     ]
    }
   ],
   "source": [
    "#a = True\n",
    "a = 'Python'\n",
    "print(type(a))\n"
   ]
  },
  {
   "cell_type": "code",
   "execution_count": 69,
   "id": "1dec495b-1c0c-47af-ae2e-27e58dccf8b6",
   "metadata": {},
   "outputs": [
    {
     "name": "stdout",
     "output_type": "stream",
     "text": [
      "false\n"
     ]
    }
   ],
   "source": [
    "#a = 'Python'\n",
    "#a = [1, 2, 3]\n",
    "#a = (1, 2, 3)\n",
    "#a = 1\n",
    "#a = []\n",
    "#a = ''\n",
    "#a = None\n",
    "#a = {}\n",
    "a = False\n",
    "if a:\n",
    "    print('true')\n",
    "else:\n",
    "    print('false')\n",
    "#print(type(a))"
   ]
  },
  {
   "cell_type": "code",
   "execution_count": 2,
   "id": "8b5c0066-deab-47ec-9687-9281d2b86c47",
   "metadata": {},
   "outputs": [
    {
     "name": "stdout",
     "output_type": "stream",
     "text": [
      "tangsuyuk\n"
     ]
    }
   ],
   "source": [
    "money = 50000\n",
    "if money >= 20000:\n",
    "    print('tangsuyuk')\n",
    "elif money >= 10000:\n",
    "    print('jjanmbbong')\n",
    "else:\n",
    "    print('danmuji')"
   ]
  },
  {
   "cell_type": "code",
   "execution_count": 13,
   "id": "9c29d7be-a9ca-4fd6-87d2-203c9076804a",
   "metadata": {},
   "outputs": [
    {
     "name": "stdout",
     "output_type": "stream",
     "text": [
      "success\n"
     ]
    }
   ],
   "source": [
    "pocket = ['paper', 'cellphone']\n",
    "card = True\n",
    "if 'money' in pocket:\n",
    "    print('success')\n",
    "else: \n",
    "    if card:\n",
    "        print('success')\n",
    "    else:\n",
    "        print('falid')"
   ]
  },
  {
   "cell_type": "code",
   "execution_count": 17,
   "id": "486af4f9-ee63-4d32-818d-c4318e2cdf6f",
   "metadata": {},
   "outputs": [
    {
     "name": "stdout",
     "output_type": "stream",
     "text": [
      "1 번 학생의 성적을 처리한다. \n",
      "2 번 학생의 성적을 처리한다. \n",
      "3 번 학생의 성적을 처리한다. \n",
      "4 번 학생의 성적을 처리한다. \n",
      "5 번 학생의 성적을 처리한다. \n"
     ]
    }
   ],
   "source": [
    "student = 1\n",
    "while student <= 5:\n",
    "    print(student, '번 학생의 성적을 처리한다. ')\n",
    "    student += 1"
   ]
  },
  {
   "cell_type": "code",
   "execution_count": 24,
   "id": "237aa65d-78c7-4d79-8a22-3a9483fd8d8a",
   "metadata": {},
   "outputs": [
    {
     "name": "stdout",
     "output_type": "stream",
     "text": [
      "55 합계: \n"
     ]
    }
   ],
   "source": [
    "num1 = 1\n",
    "sum = 0\n",
    "while num1<=10:\n",
    "    \n",
    "    sum += num1\n",
    "    num1 += 1\n",
    "print(sum, '합계: ')"
   ]
  },
  {
   "cell_type": "code",
   "execution_count": 28,
   "id": "cbf63c0d-c6df-4cc8-a187-1629c47736cc",
   "metadata": {},
   "outputs": [
    {
     "name": "stdout",
     "output_type": "stream",
     "text": [
      "5050 합계: \n"
     ]
    }
   ],
   "source": [
    "num1 = 1\n",
    "sum = 0\n",
    "for num1 in range(1,101):\n",
    "    \n",
    "    sum += num1\n",
    "    num1 += 1\n",
    "print(sum, '합계: ')"
   ]
  },
  {
   "cell_type": "code",
   "execution_count": 1,
   "id": "24bd8231-46ed-451f-8807-7463b56e05ab",
   "metadata": {},
   "outputs": [
    {
     "name": "stdout",
     "output_type": "stream",
     "text": [
      "1 번 학생의 성적을 처리한다. \n",
      "2 번 학생의 성적을 처리한다. \n",
      "3 번 학생의 성적을 처리한다. \n",
      "4 번 학생의 성적을 처리한다. \n",
      "5 번 학생의 성적을 처리한다. \n"
     ]
    }
   ],
   "source": [
    "student = 1\n",
    "for student in [1, 2, 3, 4, 5]:\n",
    "    print(student, '번 학생의 성적을 처리한다. ')\n",
    "    "
   ]
  },
  {
   "cell_type": "code",
   "execution_count": 2,
   "id": "88a83a6d-74c6-4b95-bcbb-94f3ca281ae2",
   "metadata": {},
   "outputs": [
    {
     "name": "stdout",
     "output_type": "stream",
     "text": [
      "1 번 학생의 성적을 처리한다. \n",
      "2 번 학생의 성적을 처리한다. \n",
      "3 번 학생의 성적을 처리한다. \n",
      "4 번 학생의 성적을 처리한다. \n",
      "5 번 학생의 성적을 처리한다. \n"
     ]
    }
   ],
   "source": [
    "for student in range(1, 6):\n",
    "    print(student, '번 학생의 성적을 처리한다. ')\n",
    "    "
   ]
  },
  {
   "cell_type": "code",
   "execution_count": 46,
   "id": "bad3bb2a-e264-4437-9777-13849e81971f",
   "metadata": {},
   "outputs": [
    {
     "name": "stdout",
     "output_type": "stream",
     "text": [
      "sum =  2500\n"
     ]
    }
   ],
   "source": [
    "num = 0\n",
    "sum = 0\n",
    "for num in range(1, 101, 2):\n",
    "    sum += num\n",
    "print('sum = ', sum)"
   ]
  },
  {
   "cell_type": "code",
   "execution_count": 3,
   "id": "5701c5ad-153d-47f4-9d03-ba335c9ff4f8",
   "metadata": {},
   "outputs": [
    {
     "name": "stdout",
     "output_type": "stream",
     "text": [
      "\n",
      "    1. Add\n",
      "    2. del\n",
      "    3. list\n",
      "    4. quit\n",
      "\n"
     ]
    },
    {
     "name": "stdin",
     "output_type": "stream",
     "text": [
      " 4\n"
     ]
    }
   ],
   "source": [
    "prompt = \"\"\"\n",
    "    1. Add\n",
    "    2. del\n",
    "    3. list\n",
    "    4. quit\n",
    "\"\"\"\n",
    "num = 0\n",
    "#input('번호을 입력하세요 : ')\n",
    "while num != 4:\n",
    "    print(prompt)\n",
    "    num = int(input())\n",
    "    "
   ]
  },
  {
   "cell_type": "code",
   "execution_count": 2,
   "id": "a46a7e80-32a5-4e12-9c27-5e9da9b7e760",
   "metadata": {},
   "outputs": [
    {
     "name": "stdout",
     "output_type": "stream",
     "text": [
      "3\n",
      "7\n",
      "11\n"
     ]
    }
   ],
   "source": [
    "a = [(1,2), (3,4), (5,6)]\n",
    "for (first, last) in a:\n",
    "    print(first + last)"
   ]
  },
  {
   "cell_type": "code",
   "execution_count": 8,
   "id": "d65d7db5-f539-45d7-9044-535827769224",
   "metadata": {},
   "outputs": [
    {
     "name": "stdout",
     "output_type": "stream",
     "text": [
      "1번 학생은 합격입니다.\n",
      "2번 학생은 불합격입니다.\n",
      "3번 학생은 합격입니다.\n",
      "4번 학생은 불합격입니다.\n",
      "5번 학생은 합격입니다.\n"
     ]
    }
   ],
   "source": [
    "marks = [90, 25, 67, 45, 80]\n",
    "\n",
    "#1번 학생은 합격입니다.\n",
    "#2번 학생은 합격입니다.\n",
    "#3번 학생은 합격입니다.\n",
    "#4번 학생은 합격입니다.\n",
    "#5번 학생은 합격입니다.\n",
    "\n",
    "for i in range(len(marks)):\n",
    "    student_num = i + 1 \n",
    "    if marks[i] >= 60:\n",
    "        print(f\"{student_num}번 학생은 합격입니다.\")\n",
    "    else:\n",
    "        print(f\"{student_num}번 학생은 불합격입니다.\")"
   ]
  },
  {
   "cell_type": "code",
   "execution_count": 10,
   "id": "627efaa0-ccc1-4b2d-81bd-443084ae34f7",
   "metadata": {},
   "outputs": [
    {
     "name": "stdout",
     "output_type": "stream",
     "text": [
      "1번 학생 합격입니다.\n",
      "2번 학생 불합격입니다.\n",
      "3번 학생 합격입니다.\n",
      "4번 학생 불합격입니다.\n",
      "5번 학생 합격입니다.\n"
     ]
    }
   ],
   "source": [
    "marks = [90, 25, 67, 45, 80]\n",
    "num = 0\n",
    "for mark in marks:\n",
    "    num += 1\n",
    "    if mark < 60:\n",
    "        print('%d번 학생 불합격입니다.' %num)\n",
    "    else:\n",
    "        print('%d번 학생 합격입니다.' %num)"
   ]
  },
  {
   "cell_type": "code",
   "execution_count": 11,
   "id": "b045a613-cde5-403d-9262-7d5e13837e32",
   "metadata": {},
   "outputs": [
    {
     "name": "stdout",
     "output_type": "stream",
     "text": [
      "1번 학생 합격입니다.\n",
      "3번 학생 합격입니다.\n",
      "5번 학생 합격입니다.\n"
     ]
    }
   ],
   "source": [
    "marks = [90, 25, 67, 45, 80]\n",
    "for num in range(len(marks)):\n",
    "    if marks[num] < 60:\n",
    "        continue\n",
    "    else: \n",
    "        print('%d번 학생 합격입니다.' %(num+1))"
   ]
  },
  {
   "cell_type": "code",
   "execution_count": 13,
   "id": "24f9a693-4919-44b7-a028-20c14a783495",
   "metadata": {},
   "outputs": [
    {
     "name": "stdout",
     "output_type": "stream",
     "text": [
      "[3, 6, 9, 12]\n"
     ]
    }
   ],
   "source": [
    "#[3, 6, 9, 12]\n",
    "result = []\n",
    "a = [1, 2, 3, 4]\n",
    "\n",
    "for num in a:\n",
    "    result.append(num * 3)\n",
    "print(result)"
   ]
  },
  {
   "cell_type": "code",
   "execution_count": 16,
   "id": "e929dc15-c13f-41a8-b905-c8e2cb86558e",
   "metadata": {},
   "outputs": [
    {
     "name": "stdout",
     "output_type": "stream",
     "text": [
      "[3, 6, 9, 12]\n"
     ]
    }
   ],
   "source": [
    "a = [1, 2, 3, 4]\n",
    "result = [val * 3 for val in a]\n",
    "print(result)"
   ]
  },
  {
   "cell_type": "code",
   "execution_count": 17,
   "id": "a75311d4-c500-4579-8334-f88397465d88",
   "metadata": {},
   "outputs": [
    {
     "name": "stdout",
     "output_type": "stream",
     "text": [
      "[3, 6, 9, 12]\n"
     ]
    }
   ],
   "source": [
    "#list comprehension\n",
    "result = [num * 3 for num in a]\n",
    "print(result)"
   ]
  },
  {
   "cell_type": "code",
   "execution_count": 19,
   "id": "98dc1d86-ed52-47df-8b6f-9d9c5a3f1628",
   "metadata": {},
   "outputs": [
    {
     "name": "stdout",
     "output_type": "stream",
     "text": [
      "[6, 12]\n"
     ]
    }
   ],
   "source": [
    "a = [1, 2, 3, 4]\n",
    "result = [num * 3 for num in a if num % 2 == 0]\n",
    "print(result) "
   ]
  },
  {
   "cell_type": "code",
   "execution_count": 26,
   "id": "42e97a67-b8c4-4440-a32f-d99eec054a02",
   "metadata": {},
   "outputs": [
    {
     "name": "stdout",
     "output_type": "stream",
     "text": [
      "['APPLE', 'KIWI']\n"
     ]
    }
   ],
   "source": [
    "x = [\"grapes\", \"mango\", \"orange\", \"peach\", \"apple\", \"lime\", \"banana\", \"cherry\", \"tomato\", \"kiwi\", \"blueberry\", \"watermelon\"]\n",
    "\n",
    "result = [ item.upper() for item in x if item in [\"apple\", \"kiwi\"]]\n",
    "\n",
    "print(result)"
   ]
  },
  {
   "cell_type": "code",
   "execution_count": 27,
   "id": "9024ff5e-a8bb-4a81-809e-6e47bdfb0da5",
   "metadata": {},
   "outputs": [
    {
     "name": "stdout",
     "output_type": "stream",
     "text": [
      "['APPLE', 'KIWI']\n"
     ]
    }
   ],
   "source": [
    "x = [\"grapes\", \"mango\", \"orange\", \"peach\", \"apple\", \"lime\", \"banana\", \"cherry\", \"tomato\", \"kiwi\", \"blueberry\", \"watermelon\"]\n",
    "result = []\n",
    "for item in x:\n",
    "    if item == \"apple\" or item == \"kiwi\":\n",
    "        result.append(item.upper())\n",
    "print(result)"
   ]
  },
  {
   "cell_type": "code",
   "execution_count": 28,
   "id": "c457610b-6701-4c7d-9dcb-a8deeb0877bb",
   "metadata": {},
   "outputs": [
    {
     "name": "stdout",
     "output_type": "stream",
     "text": [
      "['APPLE', 'KIWI']\n"
     ]
    }
   ],
   "source": [
    "x = [\"grapes\", \"mango\", \"orange\", \"peach\", \"apple\", \"lime\", \"banana\", \"cherry\", \"tomato\", \"kiwi\", \"blueberry\", \"watermelon\"]\n",
    "result = list(map(str.upper, filter(lambda item: item in [\"apple\", \"kiwi\"], x)))\n",
    "print(result)"
   ]
  },
  {
   "cell_type": "code",
   "execution_count": 29,
   "id": "65bb5bd3-8704-48de-8b7c-f216f302b5bb",
   "metadata": {},
   "outputs": [
    {
     "name": "stdout",
     "output_type": "stream",
     "text": [
      "ex1 result: ['APPLE', 'KIWI']\n"
     ]
    }
   ],
   "source": [
    "ex1 = []\n",
    "for i in range(len(x)):\n",
    "    if x [i] == 'apple' or x[i] == 'kiwi':\n",
    "        ex1.append(x[i].upper())\n",
    "print(f'ex1 result: {ex1}')"
   ]
  },
  {
   "cell_type": "code",
   "execution_count": 31,
   "id": "b784bc7f-346d-44a1-95ab-1238e920473a",
   "metadata": {},
   "outputs": [
    {
     "name": "stdout",
     "output_type": "stream",
     "text": [
      "ex2 result: ['APPLE', 'KIWI']\n"
     ]
    }
   ],
   "source": [
    "ex2 = [a.upper() for a in x if a == 'apple' or a =='kiwi']\n",
    "print(f'ex2 result: {ex2}')"
   ]
  },
  {
   "cell_type": "code",
   "execution_count": 42,
   "id": "7f13b218-96cb-447f-9c1a-4fc82fbc7d20",
   "metadata": {},
   "outputs": [
    {
     "name": "stdout",
     "output_type": "stream",
     "text": [
      "[10, 2, 30, 4, 50, 6, 70, 8, 90, 10, 110, 12, 130, 14, 150, 16, 170, 18, 190, 20]\n"
     ]
    }
   ],
   "source": [
    "m2 = [num * 10 if num%2 !=0 else num for num in range(1, 21) ]\n",
    "print(m2)"
   ]
  },
  {
   "cell_type": "code",
   "execution_count": 44,
   "id": "e63f3892-9af3-40a0-b1d6-92af4b75c70e",
   "metadata": {},
   "outputs": [
    {
     "name": "stdout",
     "output_type": "stream",
     "text": [
      "ex1 result: [10, 2, 30, 4, 50, 6, 70, 8, 90, 10, 110, 12, 130, 14, 150, 16, 170, 18, 190, 20]\n"
     ]
    }
   ],
   "source": [
    "ex1 = []\n",
    "for i in range(1, 21):\n",
    "    if i % 2 !=0:\n",
    "        ex1.append(i *10)\n",
    "    else:\n",
    "        ex1.append(i)\n",
    "print(f'ex1 result: {ex1}')"
   ]
  },
  {
   "cell_type": "code",
   "execution_count": 45,
   "id": "8a4537d6-8d54-4d4e-b84f-a9c174a2fc0f",
   "metadata": {},
   "outputs": [
    {
     "name": "stdout",
     "output_type": "stream",
     "text": [
      "ex2 result: [10, 2, 30, 4, 50, 6, 70, 8, 90, 10, 110, 12, 130, 14, 150, 16, 170, 18, 190, 20]\n"
     ]
    }
   ],
   "source": [
    "print(f'ex2 result: {[x * 10 if x%2 !=0 else x for x in range(1, 21)]}')"
   ]
  },
  {
   "cell_type": "code",
   "execution_count": 48,
   "id": "bb0fe84d-0b6c-4255-9ed4-b5c98efebf93",
   "metadata": {},
   "outputs": [],
   "source": [
    "odd = [1, 3, 5, 7, 9 ]\n",
    "a = ['Life', 'is', 'too', 'short']\n",
    "b = [1, 3, 'Life', 'is']\n",
    "c = [1, 3, ['Life', 'is']]"
   ]
  },
  {
   "cell_type": "code",
   "execution_count": 49,
   "id": "fdc52aa6-b3fa-43eb-a509-9ad1204ce5e7",
   "metadata": {},
   "outputs": [
    {
     "name": "stdout",
     "output_type": "stream",
     "text": [
      "1\n",
      "4\n",
      "3\n"
     ]
    }
   ],
   "source": [
    "a = [1, 2, 3]\n",
    "print(a[0])\n",
    "print(a[0] + a[2])\n",
    "print(a[-1])"
   ]
  },
  {
   "cell_type": "code",
   "execution_count": 51,
   "id": "80113ba5-35b7-4c7b-bce5-44c78d10f3a6",
   "metadata": {},
   "outputs": [
    {
     "name": "stdout",
     "output_type": "stream",
     "text": [
      "['Life', 'is']\n",
      "Life\n"
     ]
    }
   ],
   "source": [
    "e = [1, 2, ['Life', 'is']]\n",
    "print(e[2])\n",
    "print(e[2][0])"
   ]
  },
  {
   "cell_type": "code",
   "execution_count": 52,
   "id": "31ee8ba5-080e-4d80-8ecc-53fce9de299a",
   "metadata": {},
   "outputs": [
    {
     "name": "stdout",
     "output_type": "stream",
     "text": [
      "[3, 4, 5]\n"
     ]
    }
   ],
   "source": [
    "a = [1, 2, 3, 4, 5]\n",
    "b = a[2:]\n",
    "print(b)"
   ]
  },
  {
   "cell_type": "code",
   "execution_count": 55,
   "id": "80039bfb-32f7-4e28-8914-22615c47d37d",
   "metadata": {},
   "outputs": [
    {
     "name": "stdout",
     "output_type": "stream",
     "text": [
      "[1, 2, 3, 4, 5, 6]\n",
      "[1, 2, 3, 1, 2, 3, 1, 2, 3]\n",
      "3\n"
     ]
    }
   ],
   "source": [
    "a = [1, 2, 3]\n",
    "b = [4, 5, 6]\n",
    "print(a+b)\n",
    "print(a *3)\n",
    "print(len(a))"
   ]
  },
  {
   "cell_type": "code",
   "execution_count": 58,
   "id": "d2e2bfdd-cc8a-43a2-847c-f84c08df3081",
   "metadata": {},
   "outputs": [
    {
     "name": "stdout",
     "output_type": "stream",
     "text": [
      "[1, 2, 4]\n",
      "[1, 4]\n"
     ]
    }
   ],
   "source": [
    "a = [1, 2, 3]\n",
    "a[2] = 4\n",
    "print(a)\n",
    "\n",
    "del a[1]\n",
    "print(a)"
   ]
  },
  {
   "cell_type": "code",
   "execution_count": 70,
   "id": "be09acb2-651a-4480-b798-c44e32b885eb",
   "metadata": {},
   "outputs": [
    {
     "name": "stdout",
     "output_type": "stream",
     "text": [
      "[3, 2, 1, [5, 6]]\n"
     ]
    }
   ],
   "source": [
    "\n",
    "a.append([5,6])\n",
    "\n",
    "print(a)"
   ]
  },
  {
   "cell_type": "code",
   "execution_count": 71,
   "id": "385ea053-50b2-42fb-8bc6-2c1d7b3f3dd8",
   "metadata": {},
   "outputs": [
    {
     "name": "stdout",
     "output_type": "stream",
     "text": [
      "[1, 2, 3]\n"
     ]
    }
   ],
   "source": [
    "a = [1,3,2]\n",
    "a.sort()\n",
    "print(a)"
   ]
  },
  {
   "cell_type": "code",
   "execution_count": 72,
   "id": "d7473cf3-58f8-4009-a77d-319f91cd43f7",
   "metadata": {},
   "outputs": [
    {
     "name": "stdout",
     "output_type": "stream",
     "text": [
      "[3, 2, 1]\n"
     ]
    }
   ],
   "source": [
    "a.reverse()\n",
    "print(a)"
   ]
  },
  {
   "cell_type": "code",
   "execution_count": 73,
   "id": "1c589b1e-c957-4716-995e-07748f231c36",
   "metadata": {},
   "outputs": [
    {
     "name": "stdout",
     "output_type": "stream",
     "text": [
      "0\n"
     ]
    }
   ],
   "source": [
    "print(a.index(3))"
   ]
  },
  {
   "cell_type": "code",
   "execution_count": 74,
   "id": "3f77221f-baee-4467-bdef-b3839c506945",
   "metadata": {},
   "outputs": [
    {
     "ename": "ValueError",
     "evalue": "6 is not in list",
     "output_type": "error",
     "traceback": [
      "\u001b[31m---------------------------------------------------------------------------\u001b[39m",
      "\u001b[31mValueError\u001b[39m                                Traceback (most recent call last)",
      "\u001b[36mCell\u001b[39m\u001b[36m \u001b[39m\u001b[32mIn[74]\u001b[39m\u001b[32m, line 1\u001b[39m\n\u001b[32m----> \u001b[39m\u001b[32m1\u001b[39m \u001b[38;5;28mprint\u001b[39m(\u001b[43ma\u001b[49m\u001b[43m.\u001b[49m\u001b[43mindex\u001b[49m\u001b[43m(\u001b[49m\u001b[32;43m6\u001b[39;49m\u001b[43m)\u001b[49m)\n",
      "\u001b[31mValueError\u001b[39m: 6 is not in list"
     ]
    }
   ],
   "source": [
    "print(a.index(6))"
   ]
  },
  {
   "cell_type": "code",
   "execution_count": 77,
   "id": "b89aeda0-c02e-4aec-bfb2-bc143e7083e7",
   "metadata": {},
   "outputs": [
    {
     "name": "stdout",
     "output_type": "stream",
     "text": [
      "2\n",
      "3\n",
      "[1]\n"
     ]
    }
   ],
   "source": [
    "a = [1,3,2]\n",
    "print(a.pop())\n",
    "print(a.pop(1))\n",
    "print(a)"
   ]
  },
  {
   "cell_type": "code",
   "execution_count": 79,
   "id": "17427d64-0461-4e4e-952d-61f8da4fb3eb",
   "metadata": {},
   "outputs": [
    {
     "name": "stdout",
     "output_type": "stream",
     "text": [
      "3\n"
     ]
    }
   ],
   "source": [
    "a = [1,3,2, 1, 4, 1]\n",
    "print(a.count(1))"
   ]
  },
  {
   "cell_type": "code",
   "execution_count": 84,
   "id": "9e78cba6-f682-40dd-8db0-195ec5e9fc57",
   "metadata": {},
   "outputs": [
    {
     "name": "stdout",
     "output_type": "stream",
     "text": [
      "[1, 2, 3, 4, 5]\n"
     ]
    }
   ],
   "source": [
    "a = [1, 2, 3]\n",
    "a.extend([4,5])\n",
    "print(a)"
   ]
  },
  {
   "cell_type": "code",
   "execution_count": 87,
   "id": "5fef84b5-5f35-453f-86ce-052dce845362",
   "metadata": {},
   "outputs": [
    {
     "name": "stdout",
     "output_type": "stream",
     "text": [
      "['10', '20', '30', '40', '50', '60', '70', '80', '90', '100', '110', '120', '130', '140', '150']\n"
     ]
    }
   ],
   "source": [
    "num = [str(num * 10) for num in range(1, 16) ]\n",
    "print(num)"
   ]
  },
  {
   "cell_type": "code",
   "execution_count": 93,
   "id": "b9f6a9ca-05cc-4e04-93ad-e8c61c5a31fc",
   "metadata": {},
   "outputs": [
    {
     "name": "stdout",
     "output_type": "stream",
     "text": [
      "['10', '20', '30', '40', '50', '60', '70', '80', '90', '100', '110', '120', '130', '140', '150']\n"
     ]
    }
   ],
   "source": [
    "ms3 = list(map(lambda num: str(num * 10), range(1, 16)))\n",
    "\n",
    "print(ms3)"
   ]
  },
  {
   "cell_type": "code",
   "execution_count": 95,
   "id": "11ac4b74-b53c-44f6-8ab6-be7b65e8863d",
   "metadata": {},
   "outputs": [
    {
     "name": "stdout",
     "output_type": "stream",
     "text": [
      "ex1 result : ['10', '20', '30', '40', '50', '60', '70', '80', '90', '100', '110', '120', '130', '140', '150']\n"
     ]
    }
   ],
   "source": [
    "ex1 = []\n",
    "for i in range (1, 16):\n",
    "    ex1.append(str(i *  10))\n",
    "\n",
    "print(f'ex1 result : {ex1}')"
   ]
  },
  {
   "cell_type": "code",
   "execution_count": 107,
   "id": "052b1400-b985-4adb-b989-a9d74c0df927",
   "metadata": {},
   "outputs": [
    {
     "name": "stdout",
     "output_type": "stream",
     "text": [
      "ex2 result : ['10', '20', '30', '40', '50', '60', '70', '80', '90', '100', '110', '120', '130', '140', '150']\n"
     ]
    }
   ],
   "source": [
    "print(f'ex2 result : {[str(x*10) for x in range(1,16)]}')"
   ]
  },
  {
   "cell_type": "code",
   "execution_count": 100,
   "id": "7263a880-547b-431a-b1f8-a8deae10e479",
   "metadata": {},
   "outputs": [],
   "source": [
    "#map() : 리스트나 튜플의 각 요소에 같은 함수를 적용\n",
    "#리턴값: map => list()변환\n",
    "#map(함수, 리스트 / 튜플)"
   ]
  },
  {
   "cell_type": "code",
   "execution_count": 104,
   "id": "2579a991-1fc6-45cc-be2c-f7f48beb40b6",
   "metadata": {},
   "outputs": [
    {
     "name": "stdout",
     "output_type": "stream",
     "text": [
      "[2, 4, 6, 8, 10]\n"
     ]
    }
   ],
   "source": [
    "\n",
    "numbers = [1, 2, 3, 4, 5]\n",
    "\n",
    "def double(x):\n",
    "    return x * 2\n",
    "#result = map(double, numbers)\n",
    "result = map(lambda x: x * 2, numbers)\n",
    "print(list(result))"
   ]
  },
  {
   "cell_type": "code",
   "execution_count": 106,
   "id": "6447e4d0-4eda-49cb-80a4-ad34d0824340",
   "metadata": {},
   "outputs": [
    {
     "name": "stdout",
     "output_type": "stream",
     "text": [
      "ex3 result : ['10', '20', '30', '40', '50', '60', '70', '80', '90', '100', '110', '120', '130', '140', '150']\n"
     ]
    }
   ],
   "source": [
    "print(f'ex3 result : {list(map(lambda x : str(x * 10), range(1, 16)))}')"
   ]
  },
  {
   "cell_type": "code",
   "execution_count": 124,
   "id": "36181e57-accd-41c1-a282-d55a6cb27d7e",
   "metadata": {},
   "outputs": [
    {
     "name": "stdin",
     "output_type": "stream",
     "text": [
      " > 1번째 숫자:  1\n",
      " > 2번째 숫자:  1\n"
     ]
    },
    {
     "name": "stdout",
     "output_type": "stream",
     "text": [
      "1 + 1 = 2\n"
     ]
    }
   ],
   "source": [
    "a = input(\" > 1번째 숫자: \")\n",
    "b = input(\" > 2번째 숫자: \")\n",
    "\n",
    "#print(f'{a} + {b} = {int(a) + int(b)}')\n",
    "print(\"{a} + {b} = {sum}\".format(a=a, b=b, sum=int(a) + int(b)))"
   ]
  },
  {
   "cell_type": "code",
   "execution_count": 126,
   "id": "6eae59d2-ab37-4946-8ddb-5acc351a9929",
   "metadata": {},
   "outputs": [
    {
     "name": "stdout",
     "output_type": "stream",
     "text": [
      "A :  hello\n",
      "B :  HELLO\n"
     ]
    }
   ],
   "source": [
    "string = 'hello'\n",
    "string.upper()\n",
    "print('A : ', string)\n",
    "print('B : ', string.upper())"
   ]
  },
  {
   "cell_type": "code",
   "execution_count": 137,
   "id": "d0a2ba2f-20bb-4a72-b871-54d2417b846e",
   "metadata": {},
   "outputs": [
    {
     "name": "stdin",
     "output_type": "stream",
     "text": [
      " > 1번째 숫자:  4\n",
      " > 2번째 숫자:  4\n"
     ]
    },
    {
     "name": "stdout",
     "output_type": "stream",
     "text": [
      "처음 입력한 4와/과 4와/과 같습니다.\n"
     ]
    }
   ],
   "source": [
    "a = int(input(\" > 1번째 숫자: \"))\n",
    "b = int(input(\" > 2번째 숫자: \"))\n",
    "\n",
    "if a > b:\n",
    "    print('처음 입력한 {0}이/가 {1}보다 큽니다.'.format('%0.1f' %a, '%0.1f' %b))\n",
    "elif a < b:\n",
    "    print('처음 입력한 {0}이/가 {1}보다 작습니다.'.format(a, b))\n",
    "else:\n",
    "    print('처음 입력한 {0}와/과 {1}와/과 같습니다.'.format(a, b))\n",
    "    "
   ]
  },
  {
   "cell_type": "code",
   "execution_count": 139,
   "id": "a8c2f006-3347-4074-8725-473eabd5bd84",
   "metadata": {},
   "outputs": [
    {
     "name": "stdout",
     "output_type": "stream",
     "text": [
      "8\n"
     ]
    }
   ],
   "source": [
    "x = 10\n",
    "y = 2\n",
    "\n",
    "if x> 4:\n",
    "    if y > 2:\n",
    "        print(x * y)\n",
    "    else:\n",
    "        print(x - y)\n",
    "else:\n",
    "    print(x + y)"
   ]
  },
  {
   "cell_type": "code",
   "execution_count": 142,
   "id": "967a5dee-d27f-4c4f-8c74-c12355534e9b",
   "metadata": {},
   "outputs": [],
   "source": [
    "x = 10\n",
    "if 10 < x <20:\n",
    "    print('조건에 맞습니다.')"
   ]
  },
  {
   "cell_type": "code",
   "execution_count": 151,
   "id": "8262ea6b-fbe8-4070-b418-8419eb45e5f2",
   "metadata": {},
   "outputs": [
    {
     "name": "stdin",
     "output_type": "stream",
     "text": [
      "태어난 해를 입력해주세요 >  1989\n"
     ]
    },
    {
     "name": "stdout",
     "output_type": "stream",
     "text": [
      "1989 년생은\n",
      "뱀 띠\n"
     ]
    }
   ],
   "source": [
    "str_input = input('태어난 해를 입력해주세요 > ')\n",
    "birth_year = int(str_input)\n",
    "\n",
    "print(f'{birth_year} 년생은')\n",
    "if birth_year % 12 == 0:\n",
    "    print('원숭이 띠')\n",
    "elif birth_year % 12 == 1:\n",
    "    print('닭 띠')\n",
    "elif birth_year % 12 == 2:\n",
    "    print('개 띠')\n",
    "elif birth_year % 12 == 3:\n",
    "    print('돼지 띠')\n",
    "elif birth_year % 12 == 4:\n",
    "    print('쥐 띠')\n",
    "elif birth_year % 12 == 5:\n",
    "    print('소 띠')\n",
    "elif birth_year % 12 == 6:\n",
    "    print('범 띠')\n",
    "elif birth_year % 12 == 7:\n",
    "    print('토끼 띠')\n",
    "elif birth_year % 12 == 8:\n",
    "    print('용 띠')\n",
    "elif birth_year % 12 == 9:\n",
    "    print('뱀 띠')\n",
    "elif birth_year % 12 == 10:\n",
    "    print('말 띠')\n",
    "elif birth_year % 12 == 11:\n",
    "    print('양 띠')"
   ]
  },
  {
   "cell_type": "code",
   "execution_count": 159,
   "id": "3d795c54-80cd-4746-a763-656b8065d049",
   "metadata": {},
   "outputs": [
    {
     "name": "stdout",
     "output_type": "stream",
     "text": [
      "[0, 1, 2, 3, 3, 4, 5, 6, 7]\n",
      "[0, 1, 2, 3, 3, 4, 5, 6, 7, 10]\n",
      "[0, 1, 2, 0, 3, 3, 4, 5, 6, 7, 10]\n",
      "[0, 1, 2, 0, 3, 4, 5, 6, 7, 10]\n",
      "[0, 1, 2, 3, 4, 5, 6, 7, 10]\n",
      "[]\n"
     ]
    }
   ],
   "source": [
    "list_a = [0, 1, 2, 3, 3, 4, 5, 6, 7]\n",
    "\n",
    "#list_a.extend(list_a)\n",
    "print(list_a)\n",
    "list_a.append(10)\n",
    "print(list_a)\n",
    "list_a.insert(3, 0)\n",
    "print(list_a)\n",
    "list_a.remove(3)\n",
    "print(list_a)\n",
    "list_a.pop(3)\n",
    "print(list_a)\n",
    "list_a.clear()\n",
    "print(list_a)\n"
   ]
  },
  {
   "cell_type": "code",
   "execution_count": 196,
   "id": "ac338cff-4ce4-497d-a802-eedfcf7c5ab3",
   "metadata": {},
   "outputs": [
    {
     "name": "stdout",
     "output_type": "stream",
     "text": [
      "273 은/는 3자릿수입니다.\n",
      "103 은/는 3자릿수입니다.\n",
      "5 은/는 1자릿수입니다.\n",
      "32 은/는 2자릿수입니다.\n",
      "65 은/는 2자릿수입니다.\n",
      "9 은/는 1자릿수입니다.\n",
      "72 은/는 2자릿수입니다.\n",
      "800 은/는 3자릿수입니다.\n",
      "99 은/는 2자릿수입니다.\n"
     ]
    }
   ],
   "source": [
    "numbers = [273, 103, 5, 32, 65, 9, 72, 800, 99]\n",
    "\n",
    "# for number in numbers:\n",
    "#     if number >= 100:\n",
    "#         print('100 이상의 수: ', number)\n",
    "#     else:\n",
    "#         #print(number, end=' ')\n",
    "#         continue\n",
    "# print('last number : ', number)\n",
    "result = [num for num in numbers if num >= 100]\n",
    "#even = [num for num in numbers if num % 2 ==0]\n",
    "# for even in numbers:\n",
    "#     if even % 2 == 0:\n",
    "#         print(f'{even}은/는 짝수입니다.')\n",
    "#     else:\n",
    "#         print(f'{even}은/는 홀수입니다.')\n",
    "# print(result)\n",
    "#print(f'{odd}은/는 짝수입니다.')\n",
    "# messages = [f'{num}은/는 짝수입니다.' if num % 2 == 0 else f'{num}은/는 홀수입니다.' for num in numbers]\n",
    "\n",
    "# 생성된 메시지 출력\n",
    "# for msg in messages:\n",
    "#     print(msg)\n",
    "\n",
    "# 또는 더 간단하게:\n",
    "# print('\\n'.join(messages))\n",
    "\n",
    "for digit in numbers:\n",
    "    if digit >= 100:\n",
    "        print(f'{digit} 은/는 3자릿수입니다.')\n",
    "    elif digit >= 10:\n",
    "        print(f'{digit} 은/는 2자릿수입니다.')\n",
    "    else:\n",
    "        print(f'{digit} 은/는 1자릿수입니다.')\n",
    "\n",
    "# digit = [f' {num}은/는 3자릿수입니다.' if num >= 100 else (f' {num}은/는 2자릿수입니다.' if num >= 10 else f' {num}은/는 1자릿수입니다.') for num in numbers]\n",
    "\n",
    "# print(digit)"
   ]
  },
  {
   "cell_type": "code",
   "execution_count": null,
   "id": "8c94c73e-96ec-4e3a-8967-a02a318b60fd",
   "metadata": {},
   "outputs": [],
   "source": []
  }
 ],
 "metadata": {
  "kernelspec": {
   "display_name": "Python 3 (ipykernel)",
   "language": "python",
   "name": "python3"
  },
  "language_info": {
   "codemirror_mode": {
    "name": "ipython",
    "version": 3
   },
   "file_extension": ".py",
   "mimetype": "text/x-python",
   "name": "python",
   "nbconvert_exporter": "python",
   "pygments_lexer": "ipython3",
   "version": "3.11.9"
  }
 },
 "nbformat": 4,
 "nbformat_minor": 5
}

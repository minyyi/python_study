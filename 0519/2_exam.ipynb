{
 "cells": [
  {
   "cell_type": "code",
   "execution_count": 3,
   "id": "44d9fa6f-f7a0-493a-8565-1e847640163a",
   "metadata": {},
   "outputs": [
    {
     "name": "stdout",
     "output_type": "stream",
     "text": [
      "5\n"
     ]
    }
   ],
   "source": [
    "print(2+3)"
   ]
  },
  {
   "cell_type": "code",
   "execution_count": 4,
   "id": "36ff50cc-651e-40ee-a050-c269374b4157",
   "metadata": {},
   "outputs": [
    {
     "name": "stdout",
     "output_type": "stream",
     "text": [
      "5\n"
     ]
    }
   ],
   "source": [
    "print(2+3)"
   ]
  },
  {
   "cell_type": "code",
   "execution_count": 8,
   "id": "7bf3d008-a6f2-49d6-bee5-ccc72094d2b6",
   "metadata": {},
   "outputs": [
    {
     "name": "stdout",
     "output_type": "stream",
     "text": [
      "서울   대전   대구   부산\n"
     ]
    }
   ],
   "source": [
    "#printsetup\n",
    "s = '서울'\n",
    "d = '대전'\n",
    "g = '대구'\n",
    "b = '부산'\n",
    "print(s, d, g, b, sep='   ')"
   ]
  },
  {
   "cell_type": "code",
   "execution_count": 12,
   "id": "3f680361-29cf-45c6-89b7-a4461c574d15",
   "metadata": {},
   "outputs": [
    {
     "name": "stdout",
     "output_type": "stream",
     "text": [
      "강아지 고양이\n"
     ]
    }
   ],
   "source": [
    "a = '강아지'\n",
    "b = '고양이'\n",
    "print(a, end = ' ')\n",
    "print(b)"
   ]
  },
  {
   "cell_type": "code",
   "execution_count": 13,
   "id": "14c9a83a-d397-465c-ae78-d8f790787dce",
   "metadata": {},
   "outputs": [
    {
     "name": "stdin",
     "output_type": "stream",
     "text": [
      "이름을 입력하세요 :  s\n"
     ]
    },
    {
     "name": "stdout",
     "output_type": "stream",
     "text": [
      "안녕하세요 s 님\n"
     ]
    }
   ],
   "source": [
    "name = input('이름을 입력하세요 : ')\n",
    "print ('안녕하세요', name, '님')"
   ]
  },
  {
   "cell_type": "code",
   "execution_count": 14,
   "id": "f1b5b4d0-396d-4b4f-91c3-67d83dc56f3a",
   "metadata": {},
   "outputs": [
    {
     "name": "stdout",
     "output_type": "stream",
     "text": [
      "\n",
      "    오늘은 python 첫 수업\n",
      "    내일은 두 번째\n",
      "    모레는 세번쩨\n",
      "\n"
     ]
    }
   ],
   "source": [
    "s = \"\"\"\n",
    "    오늘은 python 첫 수업\n",
    "    내일은 두 번째\n",
    "    모레는 세번쩨\n",
    "\"\"\"\n",
    "print(s)"
   ]
  },
  {
   "cell_type": "code",
   "execution_count": 15,
   "id": "c2707db2-2143-4da0-86f8-6cc472d7e037",
   "metadata": {},
   "outputs": [
    {
     "name": "stdout",
     "output_type": "stream",
     "text": [
      "koreajapanUSA\n"
     ]
    }
   ],
   "source": [
    "s = \"korea\" \"japan\" \"USA\"\n",
    "print(s)"
   ]
  },
  {
   "cell_type": "code",
   "execution_count": 18,
   "id": "75e0538a-132f-4295-95ac-d67f68090250",
   "metadata": {},
   "outputs": [
    {
     "name": "stdin",
     "output_type": "stream",
     "text": [
      "가격을 입력하세요:  1000\n",
      "수량을 입력하세요:  5\n"
     ]
    },
    {
     "name": "stdout",
     "output_type": "stream",
     "text": [
      "총액은 5000 원 입니다.\n"
     ]
    }
   ],
   "source": [
    "price = int(input('가격을 입력하세요: '))\n",
    "num = int(input('수량을 입력하세요: '))\n",
    "sum = price * num\n",
    "print('총액은', sum, '원 입니다.')\n"
   ]
  },
  {
   "cell_type": "code",
   "execution_count": 22,
   "id": "45a807d4-2937-4bf4-95fb-6ddf1f42b8dc",
   "metadata": {},
   "outputs": [
    {
     "name": "stdout",
     "output_type": "stream",
     "text": [
      "Python's favorite \n",
      " food is perl\n"
     ]
    }
   ],
   "source": [
    "print('Python\\'s favorite \\n food is perl')"
   ]
  },
  {
   "cell_type": "code",
   "execution_count": 24,
   "id": "67c89933-84c7-42d4-be6f-1cc29499c664",
   "metadata": {},
   "outputs": [
    {
     "name": "stdout",
     "output_type": "stream",
     "text": [
      "pythonpythonpythonpythonpython\n"
     ]
    }
   ],
   "source": [
    "a = 'python'\n",
    "print(a * 5 )"
   ]
  },
  {
   "cell_type": "code",
   "execution_count": 26,
   "id": "a195a8ce-6fd4-444b-b5f3-c400d9fed4e9",
   "metadata": {},
   "outputs": [
    {
     "name": "stdout",
     "output_type": "stream",
     "text": [
      "34\n"
     ]
    }
   ],
   "source": [
    "a = 'Life is too shortm You need Python'\n",
    "print(len(a))"
   ]
  },
  {
   "cell_type": "code",
   "execution_count": 30,
   "id": "c485f2e1-2f3f-4d18-847c-03f1d0db7af4",
   "metadata": {},
   "outputs": [
    {
     "name": "stdout",
     "output_type": "stream",
     "text": [
      "L i f e n o\n"
     ]
    }
   ],
   "source": [
    "print(a[0],a[1],a[2],a[3],a[-1], a[-2] )"
   ]
  },
  {
   "cell_type": "code",
   "execution_count": 33,
   "id": "d04fa933-7df2-4361-aac0-bf42bd4a972e",
   "metadata": {},
   "outputs": [
    {
     "name": "stdout",
     "output_type": "stream",
     "text": [
      "Life\n"
     ]
    }
   ],
   "source": [
    "print(a[0:4])\n",
    "#slicing"
   ]
  },
  {
   "cell_type": "code",
   "execution_count": 34,
   "id": "7ed8755d-01bd-4d10-b1a2-ab0a7123403d",
   "metadata": {},
   "outputs": [
    {
     "name": "stdout",
     "output_type": "stream",
     "text": [
      "short\n"
     ]
    }
   ],
   "source": [
    "print(a[12:17])"
   ]
  },
  {
   "cell_type": "code",
   "execution_count": 35,
   "id": "94034e58-e539-4725-a0d5-f06245530668",
   "metadata": {},
   "outputs": [
    {
     "name": "stdout",
     "output_type": "stream",
     "text": [
      "Life is too short\n"
     ]
    }
   ],
   "source": [
    "print(a[:17])"
   ]
  },
  {
   "cell_type": "code",
   "execution_count": 41,
   "id": "b064187e-8d88-41e5-962d-eb5d38c71625",
   "metadata": {},
   "outputs": [
    {
     "name": "stdout",
     "output_type": "stream",
     "text": [
      "20255021 Rainy\n"
     ]
    }
   ],
   "source": [
    "a = '202550219Rainy'\n",
    "date = a[:8]\n",
    "weather = a[9:]\n",
    "print(date, weather)"
   ]
  },
  {
   "cell_type": "code",
   "execution_count": 70,
   "id": "c5bdfc6d-2ac1-4435-b0d3-6965c5f00e10",
   "metadata": {},
   "outputs": [
    {
     "ename": "TypeError",
     "evalue": "'str' object does not support item assignment",
     "output_type": "error",
     "traceback": [
      "\u001b[31m---------------------------------------------------------------------------\u001b[39m",
      "\u001b[31mTypeError\u001b[39m                                 Traceback (most recent call last)",
      "\u001b[36mCell\u001b[39m\u001b[36m \u001b[39m\u001b[32mIn[70]\u001b[39m\u001b[32m, line 2\u001b[39m\n\u001b[32m      1\u001b[39m a = \u001b[33m'\u001b[39m\u001b[33mpithon\u001b[39m\u001b[33m'\u001b[39m\n\u001b[32m----> \u001b[39m\u001b[32m2\u001b[39m \u001b[43ma\u001b[49m\u001b[43m[\u001b[49m\u001b[32;43m1\u001b[39;49m\u001b[43m]\u001b[49m = \u001b[33m'\u001b[39m\u001b[33my\u001b[39m\u001b[33m'\u001b[39m\n",
      "\u001b[31mTypeError\u001b[39m: 'str' object does not support item assignment"
     ]
    }
   ],
   "source": [
    "a = 'pithon'\n",
    "a[1] = 'y'"
   ]
  },
  {
   "cell_type": "code",
   "execution_count": 44,
   "id": "ef82cf62-bb0b-4cee-bba0-b70c245a6a9c",
   "metadata": {},
   "outputs": [
    {
     "name": "stdout",
     "output_type": "stream",
     "text": [
      "현재온도는 18도 입니다. \n"
     ]
    }
   ],
   "source": [
    "#문자열 포매팅\n",
    "#\" 현재 온도는 18도 입니다.'\n",
    "a = 18\n",
    "print('현재온도는 %d도 입니다. ' %a)"
   ]
  },
  {
   "cell_type": "code",
   "execution_count": 57,
   "id": "8f959161-7dcc-4608-a585-72eb5e2287e9",
   "metadata": {},
   "outputs": [
    {
     "name": "stdout",
     "output_type": "stream",
     "text": [
      "I ate five apple, 3 banana\n"
     ]
    }
   ],
   "source": [
    "a = 'five'\n",
    "b = 3\n",
    "print ('I ate %s apple, %d banana' %(a, b))"
   ]
  },
  {
   "cell_type": "code",
   "execution_count": 52,
   "id": "c47d1bfe-5489-45bd-84d5-5bc7ba97972e",
   "metadata": {},
   "outputs": [
    {
     "name": "stdout",
     "output_type": "stream",
     "text": [
      "3.14\n"
     ]
    }
   ],
   "source": [
    "print('%0.2f' %3.1434346)"
   ]
  },
  {
   "cell_type": "code",
   "execution_count": 53,
   "id": "453fcb81-6730-480b-8531-e53b1019fcb3",
   "metadata": {},
   "outputs": [
    {
     "name": "stdout",
     "output_type": "stream",
     "text": [
      "I eat five apple, 3 banana\n"
     ]
    }
   ],
   "source": [
    "print('I eat {0} apple, {1} banana'.format('five',3))"
   ]
  },
  {
   "cell_type": "code",
   "execution_count": 55,
   "id": "bf6c805f-79d3-437c-ab42-6f8a8eb6f5da",
   "metadata": {},
   "outputs": [
    {
     "name": "stdout",
     "output_type": "stream",
     "text": [
      "I eat num apple, number banana\n"
     ]
    }
   ],
   "source": [
    "print('I eat num apple, number banana'.format(num = 'five',number = 3))"
   ]
  },
  {
   "cell_type": "code",
   "execution_count": 56,
   "id": "b6e5c157-e409-4689-957d-ae146d48ad53",
   "metadata": {},
   "outputs": [
    {
     "name": "stdout",
     "output_type": "stream",
     "text": [
      "My name is 홍길동. age is 20.\n"
     ]
    }
   ],
   "source": [
    "name = '홍길동'\n",
    "age = 20\n",
    "print(f'My name is {name}. age is {age}.')"
   ]
  },
  {
   "cell_type": "code",
   "execution_count": 58,
   "id": "38809456-b0df-46d1-a3af-c925d6de3b63",
   "metadata": {},
   "outputs": [],
   "source": [
    "#print(a, b, c)\n",
    "#print('  %d  $s   ' %(a,b))\n",
    "#print(' {0}   {1}   ' .format(a, b))\n",
    "#print(f' {name}   {age}   ')"
   ]
  },
  {
   "cell_type": "code",
   "execution_count": 60,
   "id": "ac0fb823-9412-46fa-8a79-f0052a29c046",
   "metadata": {},
   "outputs": [
    {
     "name": "stdout",
     "output_type": "stream",
     "text": [
      "<class 'str'>\n"
     ]
    }
   ],
   "source": [
    "#a = True\n",
    "a = 'Python'\n",
    "print(type(a))\n"
   ]
  },
  {
   "cell_type": "code",
   "execution_count": 69,
   "id": "1dec495b-1c0c-47af-ae2e-27e58dccf8b6",
   "metadata": {},
   "outputs": [
    {
     "name": "stdout",
     "output_type": "stream",
     "text": [
      "false\n"
     ]
    }
   ],
   "source": [
    "#a = 'Python'\n",
    "#a = [1, 2, 3]\n",
    "#a = (1, 2, 3)\n",
    "#a = 1\n",
    "#a = []\n",
    "#a = ''\n",
    "#a = None\n",
    "#a = {}\n",
    "a = False\n",
    "if a:\n",
    "    print('true')\n",
    "else:\n",
    "    print('false')\n",
    "#print(type(a))"
   ]
  },
  {
   "cell_type": "code",
   "execution_count": null,
   "id": "8b5c0066-deab-47ec-9687-9281d2b86c47",
   "metadata": {},
   "outputs": [],
   "source": []
  }
 ],
 "metadata": {
  "kernelspec": {
   "display_name": "Python 3 (ipykernel)",
   "language": "python",
   "name": "python3"
  },
  "language_info": {
   "codemirror_mode": {
    "name": "ipython",
    "version": 3
   },
   "file_extension": ".py",
   "mimetype": "text/x-python",
   "name": "python",
   "nbconvert_exporter": "python",
   "pygments_lexer": "ipython3",
   "version": "3.11.9"
  }
 },
 "nbformat": 4,
 "nbformat_minor": 5
}

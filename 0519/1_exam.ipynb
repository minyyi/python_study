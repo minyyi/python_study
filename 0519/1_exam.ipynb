{
 "cells": [
  {
   "cell_type": "markdown",
   "id": "8d4a7011",
   "metadata": {},
   "source": [
    "#마크다운 \n",
    "##세부내용\n",
    "##실행가능함. "
   ]
  },
  {
   "cell_type": "markdown",
   "id": "77648ff4",
   "metadata": {},
   "source": [
    "- 첫번째 항목\n",
    "- 두번째 항목\n",
    "    - 하위항목"
   ]
  },
  {
   "cell_type": "markdown",
   "id": "57e01cde",
   "metadata": {},
   "source": [
    "1. asdfasf\n",
    "    1. asdfadf"
   ]
  },
  {
   "cell_type": "markdown",
   "id": "a06245f3",
   "metadata": {},
   "source": [
    "1.\n",
    "    (1)sadf"
   ]
  },
  {
   "cell_type": "code",
   "execution_count": 6,
   "id": "cc6ed4ff",
   "metadata": {},
   "outputs": [
    {
     "name": "stdout",
     "output_type": "stream",
     "text": [
      "애들은 가라\n",
      "들여쓰기 신경써야함\n"
     ]
    }
   ],
   "source": [
    "age = 10\n",
    "if age < 18 :\n",
    "    print(\"애들은 가라\")\n",
    "    print(\"들여쓰기 신경써야함\")\n",
    "    \n",
    "    "
   ]
  },
  {
   "cell_type": "code",
   "execution_count": null,
   "id": "cc6ed4ff",
   "metadata": {},
   "outputs": [
    {
     "name": "stdout",
     "output_type": "stream",
     "text": [
      "I eat 3 apple\n"
     ]
    }
   ],
   "source": [
    "print('I eat {0} apple'.format(3))"
   ]
  },
  {
   "cell_type": "code",
   "execution_count": null,
   "id": "5e0a1d05-0cfc-45ed-acf1-2ac84c224713",
   "metadata": {},
   "outputs": [],
   "source": []
  }
 ],
 "metadata": {
  "kernelspec": {
   "display_name": "Python 3 (ipykernel)",
   "language": "python",
   "name": "python3"
  },
  "language_info": {
   "codemirror_mode": {
    "name": "ipython",
    "version": 3
   },
   "file_extension": ".py",
   "mimetype": "text/x-python",
   "name": "python",
   "nbconvert_exporter": "python",
   "pygments_lexer": "ipython3",
   "version": "3.11.9"
  }
 },
 "nbformat": 4,
 "nbformat_minor": 5
}

{
 "cells": [
  {
   "cell_type": "code",
   "execution_count": null,
   "metadata": {
    "colab": {
     "base_uri": "https://localhost:8080/"
    },
    "executionInfo": {
     "elapsed": 5,
     "status": "ok",
     "timestamp": 1747872914146,
     "user": {
      "displayName": "이민영",
      "userId": "14977168148610047323"
     },
     "user_tz": -540
    },
    "id": "eGLANeSNVkXB",
    "outputId": "b4dd085a-5636-47a9-cd92-1580fd34730d"
   },
   "outputs": [
    {
     "name": "stdout",
     "output_type": "stream",
     "text": [
      "2\n"
     ]
    }
   ],
   "source": [
    "print(1+1)"
   ]
  },
  {
   "cell_type": "code",
   "execution_count": 3,
   "metadata": {
    "executionInfo": {
     "elapsed": 4,
     "status": "ok",
     "timestamp": 1747890814582,
     "user": {
      "displayName": "이민영",
      "userId": "14977168148610047323"
     },
     "user_tz": -540
    },
    "id": "8etJIDRSWBpr"
   },
   "outputs": [],
   "source": [
    "import numpy as np"
   ]
  },
  {
   "cell_type": "code",
   "execution_count": null,
   "metadata": {
    "colab": {
     "base_uri": "https://localhost:8080/"
    },
    "executionInfo": {
     "elapsed": 4,
     "status": "ok",
     "timestamp": 1747873231096,
     "user": {
      "displayName": "이민영",
      "userId": "14977168148610047323"
     },
     "user_tz": -540
    },
    "id": "RLkvmT_oWx_i",
    "outputId": "dbce2644-f198-44df-8885-b2bd2b0f4ab1"
   },
   "outputs": [
    {
     "name": "stdout",
     "output_type": "stream",
     "text": [
      "[1 2 3]\n"
     ]
    }
   ],
   "source": [
    "print(np.array([1,2,3]))"
   ]
  },
  {
   "cell_type": "code",
   "execution_count": null,
   "metadata": {
    "colab": {
     "base_uri": "https://localhost:8080/"
    },
    "executionInfo": {
     "elapsed": 4,
     "status": "ok",
     "timestamp": 1747873384994,
     "user": {
      "displayName": "이민영",
      "userId": "14977168148610047323"
     },
     "user_tz": -540
    },
    "id": "d0nR4xm3XPCE",
    "outputId": "c6b7eb3b-5566-4cbe-c1cd-5dedbbaff284"
   },
   "outputs": [
    {
     "name": "stdout",
     "output_type": "stream",
     "text": [
      "[1, 2, 3, 1, 2, 3]\n"
     ]
    }
   ],
   "source": [
    "print([1, 2, 3]*2)"
   ]
  },
  {
   "cell_type": "code",
   "execution_count": null,
   "metadata": {
    "colab": {
     "base_uri": "https://localhost:8080/"
    },
    "executionInfo": {
     "elapsed": 3,
     "status": "ok",
     "timestamp": 1747873406341,
     "user": {
      "displayName": "이민영",
      "userId": "14977168148610047323"
     },
     "user_tz": -540
    },
    "id": "NCjQEG7vX0m3",
    "outputId": "c02ffc4d-8d45-44e8-9a18-59dffd48012b"
   },
   "outputs": [
    {
     "name": "stdout",
     "output_type": "stream",
     "text": [
      "[2 4 6]\n"
     ]
    }
   ],
   "source": [
    "arr_1 = np.array([1, 2, 3])\n",
    "print(arr_1 * 2)"
   ]
  },
  {
   "cell_type": "code",
   "execution_count": null,
   "metadata": {
    "colab": {
     "base_uri": "https://localhost:8080/"
    },
    "executionInfo": {
     "elapsed": 4,
     "status": "ok",
     "timestamp": 1747873560572,
     "user": {
      "displayName": "이민영",
      "userId": "14977168148610047323"
     },
     "user_tz": -540
    },
    "id": "zw9sj7gjX50Z",
    "outputId": "a2a057bd-d333-4180-c319-f44122dc55fe"
   },
   "outputs": [
    {
     "name": "stdout",
     "output_type": "stream",
     "text": [
      "[[1 2 3]\n",
      " [4 5 6]\n",
      " [7 8 9]]\n"
     ]
    }
   ],
   "source": [
    "arr_2 = np.array(\n",
    "    [\n",
    "        [1, 2, 3], [4, 5, 6], [7, 8, 9]\n",
    "    ]\n",
    ")\n",
    "\n",
    "print(arr_2)"
   ]
  },
  {
   "cell_type": "code",
   "execution_count": null,
   "metadata": {
    "colab": {
     "base_uri": "https://localhost:8080/"
    },
    "executionInfo": {
     "elapsed": 4,
     "status": "ok",
     "timestamp": 1747873733095,
     "user": {
      "displayName": "이민영",
      "userId": "14977168148610047323"
     },
     "user_tz": -540
    },
    "id": "688SvDV0YfeF",
    "outputId": "7e00efaa-1a8b-405b-858a-5e13185d9380"
   },
   "outputs": [
    {
     "name": "stdout",
     "output_type": "stream",
     "text": [
      "int64\n"
     ]
    }
   ],
   "source": [
    "print(np.array([1, 2, 3]).dtype)"
   ]
  },
  {
   "cell_type": "code",
   "execution_count": null,
   "metadata": {
    "colab": {
     "base_uri": "https://localhost:8080/"
    },
    "executionInfo": {
     "elapsed": 4,
     "status": "ok",
     "timestamp": 1747873764552,
     "user": {
      "displayName": "이민영",
      "userId": "14977168148610047323"
     },
     "user_tz": -540
    },
    "id": "aHD_ze3RY9xH",
    "outputId": "b0d9813c-d4cc-4a4e-ca5d-bdcf35bc6b1f"
   },
   "outputs": [
    {
     "name": "stdout",
     "output_type": "stream",
     "text": [
      "int8\n"
     ]
    }
   ],
   "source": [
    "print(np.array([1, 2, 3], dtype='int8') .dtype)"
   ]
  },
  {
   "cell_type": "code",
   "execution_count": null,
   "metadata": {
    "colab": {
     "base_uri": "https://localhost:8080/"
    },
    "executionInfo": {
     "elapsed": 5,
     "status": "ok",
     "timestamp": 1747873971587,
     "user": {
      "displayName": "이민영",
      "userId": "14977168148610047323"
     },
     "user_tz": -540
    },
    "id": "r1DCAtqTZPN0",
    "outputId": "82a700c7-f1a2-4f24-bac0-0f2af25b86ea"
   },
   "outputs": [
    {
     "name": "stdout",
     "output_type": "stream",
     "text": [
      "[1, 2, 3, 4, 5, 6]\n",
      "[5, 7, 9]\n"
     ]
    }
   ],
   "source": [
    "list_1 = [1, 2, 3]\n",
    "list_2 = [4, 5, 6]\n",
    "print(list_1 + list_2)\n",
    "\n",
    "result = [x + y for x, y in zip(list_1, list_2)]\n",
    "print(result)"
   ]
  },
  {
   "cell_type": "code",
   "execution_count": null,
   "metadata": {
    "colab": {
     "base_uri": "https://localhost:8080/"
    },
    "executionInfo": {
     "elapsed": 7,
     "status": "ok",
     "timestamp": 1747874075067,
     "user": {
      "displayName": "이민영",
      "userId": "14977168148610047323"
     },
     "user_tz": -540
    },
    "id": "a8it3TZuZagz",
    "outputId": "b3914ba7-d364-4557-f945-970a2145c6ba"
   },
   "outputs": [
    {
     "name": "stdout",
     "output_type": "stream",
     "text": [
      "[5 7 9]\n"
     ]
    }
   ],
   "source": [
    "ndarr_1 = np.array([1, 2, 3])\n",
    "ndarr_2 = np.array([4, 5, 6])\n",
    "print(ndarr_1 + ndarr_2)"
   ]
  },
  {
   "cell_type": "code",
   "execution_count": null,
   "metadata": {
    "colab": {
     "base_uri": "https://localhost:8080/"
    },
    "executionInfo": {
     "elapsed": 4,
     "status": "ok",
     "timestamp": 1747874271751,
     "user": {
      "displayName": "이민영",
      "userId": "14977168148610047323"
     },
     "user_tz": -540
    },
    "id": "lGxgkxiYa03f",
    "outputId": "d44a52ac-cd03-48d9-db2a-17a8e3f59bc2"
   },
   "outputs": [
    {
     "name": "stdout",
     "output_type": "stream",
     "text": [
      "[[ 0  1  2  3]\n",
      " [ 4  5  6  7]\n",
      " [ 8  9 10 11]]\n"
     ]
    }
   ],
   "source": [
    "# a = np.arange(12)\n",
    "# 1~11까지의 1차원배열이 만들어짐\n",
    "a =  np.arange(12).reshape(3, 4) #reshape로 변환\n",
    "print(a)"
   ]
  },
  {
   "cell_type": "code",
   "execution_count": null,
   "metadata": {
    "colab": {
     "base_uri": "https://localhost:8080/"
    },
    "executionInfo": {
     "elapsed": 4,
     "status": "ok",
     "timestamp": 1747875008307,
     "user": {
      "displayName": "이민영",
      "userId": "14977168148610047323"
     },
     "user_tz": -540
    },
    "id": "axmzdpLvadFF",
    "outputId": "c444d75b-6039-48b8-865c-912818f18a97"
   },
   "outputs": [
    {
     "name": "stdout",
     "output_type": "stream",
     "text": [
      "(3, 4)\n",
      "2\n",
      "int64\n",
      "8\n",
      "12\n"
     ]
    }
   ],
   "source": [
    "print(a.shape) #배열의 각 축(axis)의 크기\n",
    "print(a.ndim) #축의 개수\n",
    "print(a.dtype) #각 요소의 데이터 타입\n",
    "print(a.itemsize) # 각 요소 타입의 byte크기\n",
    "print(a.size) #전체 요소의 개수"
   ]
  },
  {
   "cell_type": "code",
   "execution_count": null,
   "metadata": {
    "colab": {
     "base_uri": "https://localhost:8080/"
    },
    "executionInfo": {
     "elapsed": 10,
     "status": "ok",
     "timestamp": 1747874442936,
     "user": {
      "displayName": "이민영",
      "userId": "14977168148610047323"
     },
     "user_tz": -540
    },
    "id": "BGlOVK5Ibd-B",
    "outputId": "505a077a-3a9a-4229-d3c2-a70b6897830a"
   },
   "outputs": [
    {
     "name": "stdout",
     "output_type": "stream",
     "text": [
      "[[0 0 0 0]\n",
      " [0 0 0 0]\n",
      " [0 0 0 0]]\n"
     ]
    }
   ],
   "source": [
    "print(np.zeros((3,4), dtype=int))"
   ]
  },
  {
   "cell_type": "code",
   "execution_count": null,
   "metadata": {
    "colab": {
     "base_uri": "https://localhost:8080/"
    },
    "executionInfo": {
     "elapsed": 4,
     "status": "ok",
     "timestamp": 1747874478191,
     "user": {
      "displayName": "이민영",
      "userId": "14977168148610047323"
     },
     "user_tz": -540
    },
    "id": "Rjvb4QuYb25B",
    "outputId": "007190a3-a94e-4d4a-9a1c-5f18e8dc20e6"
   },
   "outputs": [
    {
     "name": "stdout",
     "output_type": "stream",
     "text": [
      "[[1 1 1 1]\n",
      " [1 1 1 1]\n",
      " [1 1 1 1]]\n"
     ]
    }
   ],
   "source": [
    "print(np.ones((3,4), dtype=int))"
   ]
  },
  {
   "cell_type": "code",
   "execution_count": null,
   "metadata": {
    "colab": {
     "base_uri": "https://localhost:8080/"
    },
    "executionInfo": {
     "elapsed": 6,
     "status": "ok",
     "timestamp": 1747874497468,
     "user": {
      "displayName": "이민영",
      "userId": "14977168148610047323"
     },
     "user_tz": -540
    },
    "id": "la5OkLDGb_gD",
    "outputId": "ee829dc8-e60c-4112-a49a-191bdfdb8457"
   },
   "outputs": [
    {
     "name": "stdout",
     "output_type": "stream",
     "text": [
      "[[5.e-324 5.e-324 5.e-324 5.e-324]\n",
      " [5.e-324 5.e-324 5.e-324 5.e-324]\n",
      " [5.e-324 5.e-324 5.e-324 5.e-324]]\n"
     ]
    }
   ],
   "source": [
    "print(np.empty((3,4)))"
   ]
  },
  {
   "cell_type": "code",
   "execution_count": null,
   "metadata": {
    "colab": {
     "base_uri": "https://localhost:8080/"
    },
    "executionInfo": {
     "elapsed": 77,
     "status": "ok",
     "timestamp": 1747874688552,
     "user": {
      "displayName": "이민영",
      "userId": "14977168148610047323"
     },
     "user_tz": -540
    },
    "id": "ttsA41U7cCq7",
    "outputId": "87f4d79f-bda4-4c23-8ed9-72acb64e1e3c"
   },
   "outputs": [
    {
     "name": "stdout",
     "output_type": "stream",
     "text": [
      "[10 15 20 25]\n",
      "[ 1  4  7 10 13 16 19 22 25 28]\n"
     ]
    }
   ],
   "source": [
    "print(np.arange(10, 30, 5))\n",
    "print(np.arange(1, 31, 3))"
   ]
  },
  {
   "cell_type": "code",
   "execution_count": null,
   "metadata": {
    "colab": {
     "base_uri": "https://localhost:8080/"
    },
    "executionInfo": {
     "elapsed": 4,
     "status": "ok",
     "timestamp": 1747874750953,
     "user": {
      "displayName": "이민영",
      "userId": "14977168148610047323"
     },
     "user_tz": -540
    },
    "id": "dYafEg4kcf0b",
    "outputId": "357c79fd-014f-4f76-9a11-317802897fb2"
   },
   "outputs": [
    {
     "name": "stdout",
     "output_type": "stream",
     "text": [
      "[ 1  3  5  7 10]\n"
     ]
    }
   ],
   "source": [
    "print(np.linspace(start=1, stop=10, num=5, dtype=int))"
   ]
  },
  {
   "cell_type": "code",
   "execution_count": null,
   "metadata": {
    "colab": {
     "base_uri": "https://localhost:8080/"
    },
    "executionInfo": {
     "elapsed": 31,
     "status": "ok",
     "timestamp": 1747875970045,
     "user": {
      "displayName": "이민영",
      "userId": "14977168148610047323"
     },
     "user_tz": -540
    },
    "id": "YGG5s_Jrc8rq",
    "outputId": "ae87ced3-f576-45d1-cecd-c2a11753d7be"
   },
   "outputs": [
    {
     "name": "stdout",
     "output_type": "stream",
     "text": [
      "[[2 0]\n",
      " [0 4]]\n",
      "[[5 4]\n",
      " [3 4]]\n"
     ]
    }
   ],
   "source": [
    "A = np.array(\n",
    "    [\n",
    "        [1, 1],\n",
    "        [0, 1]\n",
    "    ]\n",
    ")\n",
    "\n",
    "B = np.array(\n",
    "    [\n",
    "        [2,0],\n",
    "        [3,4]\n",
    "    ]\n",
    ")\n",
    "\n",
    "print(A * B) #행렬 곱셈이 아님\n",
    "print(A @ B)"
   ]
  },
  {
   "cell_type": "code",
   "execution_count": null,
   "metadata": {
    "colab": {
     "base_uri": "https://localhost:8080/"
    },
    "executionInfo": {
     "elapsed": 6,
     "status": "ok",
     "timestamp": 1747876076571,
     "user": {
      "displayName": "이민영",
      "userId": "14977168148610047323"
     },
     "user_tz": -540
    },
    "id": "lbRxkzTqhM1w",
    "outputId": "1214fbfe-8d12-44c1-a056-2ca71a5ab376"
   },
   "outputs": [
    {
     "name": "stdout",
     "output_type": "stream",
     "text": [
      "[False  True False  True]\n"
     ]
    }
   ],
   "source": [
    "A = np.array([1, 2, 3, 4])\n",
    "B = np.array([1, 1, 3, 3])\n",
    "\n",
    "print(A > B)"
   ]
  },
  {
   "cell_type": "code",
   "execution_count": null,
   "metadata": {
    "colab": {
     "base_uri": "https://localhost:8080/"
    },
    "executionInfo": {
     "elapsed": 40,
     "status": "ok",
     "timestamp": 1747876180387,
     "user": {
      "displayName": "이민영",
      "userId": "14977168148610047323"
     },
     "user_tz": -540
    },
    "id": "Cu6h90qaiEbE",
    "outputId": "78e28820-2745-48f4-d554-0bfc73b68fe8"
   },
   "outputs": [
    {
     "name": "stdout",
     "output_type": "stream",
     "text": [
      "[[ 0  1  4  9]\n",
      " [16 25 36 49]]\n"
     ]
    }
   ],
   "source": [
    "a = np.arange(8).reshape(2, 4) **2\n",
    "print(a)"
   ]
  },
  {
   "cell_type": "code",
   "execution_count": null,
   "metadata": {
    "colab": {
     "base_uri": "https://localhost:8080/"
    },
    "executionInfo": {
     "elapsed": 6,
     "status": "ok",
     "timestamp": 1747876268948,
     "user": {
      "displayName": "이민영",
      "userId": "14977168148610047323"
     },
     "user_tz": -540
    },
    "id": "piQNvdhdiRD5",
    "outputId": "f01d2187-2a0c-4208-d73e-0450ae59fb03"
   },
   "outputs": [
    {
     "name": "stdout",
     "output_type": "stream",
     "text": [
      "140\n",
      "17.5\n",
      "49\n",
      "0\n",
      "[  0   1   5  14  30  55  91 140]\n",
      "7\n"
     ]
    }
   ],
   "source": [
    "print(a.sum())\n",
    "print(a.mean())\n",
    "print(a.max())\n",
    "print(a.min())\n",
    "print(a.cumsum()) # 누적된 합\n",
    "print(a.argmax()) # 최댓값의 인덱스"
   ]
  },
  {
   "cell_type": "code",
   "execution_count": null,
   "metadata": {
    "colab": {
     "base_uri": "https://localhost:8080/"
    },
    "executionInfo": {
     "elapsed": 5,
     "status": "ok",
     "timestamp": 1747876443573,
     "user": {
      "displayName": "이민영",
      "userId": "14977168148610047323"
     },
     "user_tz": -540
    },
    "id": "8ByagILZikO1",
    "outputId": "a0496349-62df-44bc-9893-5b031c45573e"
   },
   "outputs": [
    {
     "name": "stdout",
     "output_type": "stream",
     "text": [
      "[[ 0  1  4  9]\n",
      " [16 25 36 49]]\n",
      "[ 8. 13. 20. 29.]\n",
      "[ 3.5 31.5]\n"
     ]
    }
   ],
   "source": [
    "a = np.arange(8).reshape(2, 4) **2\n",
    "print(a)\n",
    "\n",
    "print(a.mean(axis=0))\n",
    "print(a.mean(axis=1))"
   ]
  },
  {
   "cell_type": "code",
   "execution_count": null,
   "metadata": {
    "colab": {
     "base_uri": "https://localhost:8080/"
    },
    "executionInfo": {
     "elapsed": 4,
     "status": "ok",
     "timestamp": 1747876568846,
     "user": {
      "displayName": "이민영",
      "userId": "14977168148610047323"
     },
     "user_tz": -540
    },
    "id": "uFHKrQNVjbu9",
    "outputId": "f48aaf5f-2cde-4e53-bb55-30d355a443fb"
   },
   "outputs": [
    {
     "name": "stdout",
     "output_type": "stream",
     "text": [
      "0\n",
      "4\n",
      "[1 2]\n"
     ]
    }
   ],
   "source": [
    "a = np.array([0, 1, 2, 3, 4, 5])\n",
    "print(a[0])\n",
    "print(a[4])\n",
    "print(a[1:3])"
   ]
  },
  {
   "cell_type": "code",
   "execution_count": null,
   "metadata": {
    "colab": {
     "base_uri": "https://localhost:8080/"
    },
    "executionInfo": {
     "elapsed": 4,
     "status": "ok",
     "timestamp": 1747877041975,
     "user": {
      "displayName": "이민영",
      "userId": "14977168148610047323"
     },
     "user_tz": -540
    },
    "id": "rD2FvW_rj96Z",
    "outputId": "7464e5a3-ae7a-4d80-d6c7-66805d7ac024"
   },
   "outputs": [
    {
     "name": "stdout",
     "output_type": "stream",
     "text": [
      "[ 5  6  7  8  9 10 11]\n",
      "(7,)\n",
      "[[ 0  1  2  3]\n",
      " [ 4  5  6  7]\n",
      " [ 8  9 10 11]]\n"
     ]
    }
   ],
   "source": [
    "# 2차원 배열 3행 4열의 데이터를 생성 후 : 0 ~ 11\n",
    "# a > 4조건 값만 출력하시오.\n",
    "\n",
    "a = np.arange(12).reshape(3, 4)\n",
    "# print(a > 4)\n",
    "b = a > 4\n",
    "print(a[b])\n",
    "print(a[b].shape)\n",
    "print(a)"
   ]
  },
  {
   "cell_type": "code",
   "execution_count": null,
   "metadata": {
    "colab": {
     "base_uri": "https://localhost:8080/"
    },
    "executionInfo": {
     "elapsed": 6,
     "status": "ok",
     "timestamp": 1747877125049,
     "user": {
      "displayName": "이민영",
      "userId": "14977168148610047323"
     },
     "user_tz": -540
    },
    "id": "BNo7k9BWkcD0",
    "outputId": "18400ce1-4ae8-49b3-a5f7-252084fba33b"
   },
   "outputs": [
    {
     "name": "stdout",
     "output_type": "stream",
     "text": [
      "[[   0    1    2    3]\n",
      " [   4 1000 1000 1000]\n",
      " [1000 1000 1000 1000]]\n"
     ]
    }
   ],
   "source": [
    "a[b] = 1000\n",
    "print(a)"
   ]
  },
  {
   "cell_type": "code",
   "execution_count": null,
   "metadata": {
    "colab": {
     "base_uri": "https://localhost:8080/"
    },
    "executionInfo": {
     "elapsed": 4,
     "status": "ok",
     "timestamp": 1747877244010,
     "user": {
      "displayName": "이민영",
      "userId": "14977168148610047323"
     },
     "user_tz": -540
    },
    "id": "d_JSo9temFtF",
    "outputId": "19c83e9c-dda9-40f5-b7bc-3e5be49d891f"
   },
   "outputs": [
    {
     "name": "stdout",
     "output_type": "stream",
     "text": [
      "['a' 'b' 'c' 'd' 'e' 'f' 'g' 'h']\n"
     ]
    }
   ],
   "source": [
    "a = np.array(['a', 'b', 'c', 'd', 'e', 'f', 'g', 'h'])\n",
    "print(a)"
   ]
  },
  {
   "cell_type": "code",
   "execution_count": null,
   "metadata": {
    "colab": {
     "base_uri": "https://localhost:8080/"
    },
    "executionInfo": {
     "elapsed": 9,
     "status": "ok",
     "timestamp": 1747877356673,
     "user": {
      "displayName": "이민영",
      "userId": "14977168148610047323"
     },
     "user_tz": -540
    },
    "id": "oKH9dWormivI",
    "outputId": "79428dac-7a13-4267-8504-cc444811c424"
   },
   "outputs": [
    {
     "name": "stdout",
     "output_type": "stream",
     "text": [
      "['b' 'b' 'd' 'e']\n"
     ]
    }
   ],
   "source": [
    "#b, b, d, e\n",
    "i = np.array([1, 1, 3, 4])\n",
    "\n",
    "print(a[i])"
   ]
  },
  {
   "cell_type": "code",
   "execution_count": null,
   "metadata": {
    "colab": {
     "base_uri": "https://localhost:8080/"
    },
    "executionInfo": {
     "elapsed": 17,
     "status": "ok",
     "timestamp": 1747877587102,
     "user": {
      "displayName": "이민영",
      "userId": "14977168148610047323"
     },
     "user_tz": -540
    },
    "id": "g22-IlIQm-QN",
    "outputId": "85f5519d-0cb9-4afb-840e-ea571713b843"
   },
   "outputs": [
    {
     "name": "stdout",
     "output_type": "stream",
     "text": [
      "[['d' 'e']\n",
      " ['f' 'g']]\n"
     ]
    }
   ],
   "source": [
    "#[['d', 'e'],['f', 'g'] ]\n",
    "\n",
    "j = np.array([[3,4],[5,6]])\n",
    "\n",
    "print(a[j])\n"
   ]
  },
  {
   "cell_type": "code",
   "execution_count": null,
   "metadata": {
    "colab": {
     "base_uri": "https://localhost:8080/"
    },
    "executionInfo": {
     "elapsed": 4,
     "status": "ok",
     "timestamp": 1747877699636,
     "user": {
      "displayName": "이민영",
      "userId": "14977168148610047323"
     },
     "user_tz": -540
    },
    "id": "zqfUJjg1niFo",
    "outputId": "8212b495-9a0f-4101-f59d-077973fa7cce"
   },
   "outputs": [
    {
     "name": "stdout",
     "output_type": "stream",
     "text": [
      "['d' 'c' 'b' 'a']\n"
     ]
    }
   ],
   "source": [
    "b = np.array(['a', 'b', 'c', 'd'])\n",
    "\n",
    "k = np.array([3, 2, 1, 0])\n",
    "print(b[k])"
   ]
  },
  {
   "cell_type": "code",
   "execution_count": null,
   "metadata": {
    "colab": {
     "base_uri": "https://localhost:8080/"
    },
    "executionInfo": {
     "elapsed": 7,
     "status": "ok",
     "timestamp": 1747878055626,
     "user": {
      "displayName": "이민영",
      "userId": "14977168148610047323"
     },
     "user_tz": -540
    },
    "id": "07Es46QzoM4k",
    "outputId": "3f347b56-a2c7-4a2d-efff-1b537eb1f21e"
   },
   "outputs": [
    {
     "name": "stdout",
     "output_type": "stream",
     "text": [
      "[[ 0  1  2  3]\n",
      " [ 4  5  6  7]\n",
      " [ 8  9 10 11]]\n",
      "(3, 4)\n",
      "2\n",
      "(2, 6)\n",
      "[[ 0  1  2  3  4  5]\n",
      " [ 6  7  8  9 10 11]]\n"
     ]
    }
   ],
   "source": [
    "a = np.arange(12).reshape(3,4)\n",
    "print(a)\n",
    "print(a.shape)\n",
    "print(a.ndim)\n",
    "\n",
    "b = a.reshape(2,6)\n",
    "print(b.shape)\n",
    "print(b)"
   ]
  },
  {
   "cell_type": "code",
   "execution_count": null,
   "metadata": {
    "colab": {
     "base_uri": "https://localhost:8080/"
    },
    "executionInfo": {
     "elapsed": 7,
     "status": "ok",
     "timestamp": 1747878269050,
     "user": {
      "displayName": "이민영",
      "userId": "14977168148610047323"
     },
     "user_tz": -540
    },
    "id": "ZQSXZm2XpKxd",
    "outputId": "d6214f02-18d5-42f5-806e-271e18ea1ca9"
   },
   "outputs": [
    {
     "name": "stdout",
     "output_type": "stream",
     "text": [
      "[[ 0  1  2]\n",
      " [ 3  4  5]\n",
      " [ 6  7  8]\n",
      " [ 9 10 11]]\n",
      "(4, 3)\n"
     ]
    }
   ],
   "source": [
    "c = a.reshape(-1, 3)\n",
    "#-1 => 난 계산 안되 알아서 해줘\n",
    "print(c)\n",
    "print(c.shape)"
   ]
  },
  {
   "cell_type": "code",
   "execution_count": null,
   "metadata": {
    "colab": {
     "base_uri": "https://localhost:8080/"
    },
    "executionInfo": {
     "elapsed": 33,
     "status": "ok",
     "timestamp": 1747878455726,
     "user": {
      "displayName": "이민영",
      "userId": "14977168148610047323"
     },
     "user_tz": -540
    },
    "id": "cpTgkKlcqdAF",
    "outputId": "a9d2b9b1-5780-4de7-c35f-ad0d76b65498"
   },
   "outputs": [
    {
     "name": "stdout",
     "output_type": "stream",
     "text": [
      "[ 0  1  2  3  4  5  6  7  8  9 10 11]\n",
      "[ 0  1  2  3  4  5  6  7  8  9 10 11]\n",
      "[[ 0  1  2  3]\n",
      " [ 4  5  6  7]\n",
      " [ 8  9 10 11]]\n"
     ]
    }
   ],
   "source": [
    "a = np.arange(12).reshape(3,4)\n",
    "\n",
    "print(a.ravel())\n",
    "print(a.reshape(-1))"
   ]
  },
  {
   "cell_type": "code",
   "execution_count": null,
   "metadata": {
    "colab": {
     "base_uri": "https://localhost:8080/"
    },
    "executionInfo": {
     "elapsed": 6,
     "status": "ok",
     "timestamp": 1747878480430,
     "user": {
      "displayName": "이민영",
      "userId": "14977168148610047323"
     },
     "user_tz": -540
    },
    "id": "oCxgpxfvqlbb",
    "outputId": "555f482f-1214-41e7-fd41-9b1985293211"
   },
   "outputs": [
    {
     "name": "stdout",
     "output_type": "stream",
     "text": [
      "[[ 0  4  8]\n",
      " [ 1  5  9]\n",
      " [ 2  6 10]\n",
      " [ 3  7 11]]\n"
     ]
    }
   ],
   "source": [
    "b = a.T\n",
    "print(b)"
   ]
  },
  {
   "cell_type": "code",
   "execution_count": null,
   "metadata": {
    "colab": {
     "base_uri": "https://localhost:8080/"
    },
    "executionInfo": {
     "elapsed": 5,
     "status": "ok",
     "timestamp": 1747879518152,
     "user": {
      "displayName": "이민영",
      "userId": "14977168148610047323"
     },
     "user_tz": -540
    },
    "id": "DGhshMEdrQmY",
    "outputId": "0f55cbb1-f228-4de1-866b-aec3fd4ecda8"
   },
   "outputs": [
    {
     "name": "stdout",
     "output_type": "stream",
     "text": [
      "[[1 2]\n",
      " [3 4]]\n",
      "[[5 6]\n",
      " [7 8]]\n"
     ]
    }
   ],
   "source": [
    "a = np.array([1, 2, 3, 4]).reshape(2,2)\n",
    "b = np.array([5, 6, 7, 8]).reshape(2,2)\n",
    "\n",
    "print(a)\n",
    "print(b)"
   ]
  },
  {
   "cell_type": "code",
   "execution_count": null,
   "metadata": {
    "colab": {
     "base_uri": "https://localhost:8080/"
    },
    "executionInfo": {
     "elapsed": 5,
     "status": "ok",
     "timestamp": 1747879574532,
     "user": {
      "displayName": "이민영",
      "userId": "14977168148610047323"
     },
     "user_tz": -540
    },
    "id": "fTR04zF4vN9V",
    "outputId": "ac9c4152-7f08-4a36-8135-a4ba92261c25"
   },
   "outputs": [
    {
     "name": "stdout",
     "output_type": "stream",
     "text": [
      "[[1 2]\n",
      " [3 4]\n",
      " [5 6]\n",
      " [7 8]]\n",
      "[[1 2 5 6]\n",
      " [3 4 7 8]]\n"
     ]
    }
   ],
   "source": [
    "print(np.vstack((a,b)))\n",
    "print(np.hstack((a,b)))"
   ]
  },
  {
   "cell_type": "code",
   "execution_count": null,
   "metadata": {
    "colab": {
     "base_uri": "https://localhost:8080/"
    },
    "executionInfo": {
     "elapsed": 4,
     "status": "ok",
     "timestamp": 1747879646940,
     "user": {
      "displayName": "이민영",
      "userId": "14977168148610047323"
     },
     "user_tz": -540
    },
    "id": "Wln5PrLbvSsd",
    "outputId": "c8c91f18-109a-4e15-e361-28c72cf436f0"
   },
   "outputs": [
    {
     "name": "stdout",
     "output_type": "stream",
     "text": [
      "[[ 0  1  2  3  4  5]\n",
      " [ 6  7  8  9 10 11]]\n"
     ]
    }
   ],
   "source": [
    "a = np.arange(12).reshape(2,6)\n",
    "print(a)"
   ]
  },
  {
   "cell_type": "code",
   "execution_count": null,
   "metadata": {
    "colab": {
     "base_uri": "https://localhost:8080/"
    },
    "executionInfo": {
     "elapsed": 20,
     "status": "ok",
     "timestamp": 1747879675659,
     "user": {
      "displayName": "이민영",
      "userId": "14977168148610047323"
     },
     "user_tz": -540
    },
    "id": "6jah6g7yvsg0",
    "outputId": "5ece6ac6-0b18-42cf-86ce-2ecad8039a5e"
   },
   "outputs": [
    {
     "name": "stdout",
     "output_type": "stream",
     "text": [
      "[array([[0, 1, 2, 3, 4, 5]]), array([[ 6,  7,  8,  9, 10, 11]])]\n",
      "[array([[0, 1],\n",
      "       [6, 7]]), array([[2, 3],\n",
      "       [8, 9]]), array([[ 4,  5],\n",
      "       [10, 11]])]\n"
     ]
    }
   ],
   "source": [
    "print(np.vsplit(a,2))\n",
    "print(np.hsplit(a,3))"
   ]
  },
  {
   "cell_type": "code",
   "execution_count": 9,
   "metadata": {
    "colab": {
     "base_uri": "https://localhost:8080/"
    },
    "executionInfo": {
     "elapsed": 4,
     "status": "ok",
     "timestamp": 1747890841794,
     "user": {
      "displayName": "이민영",
      "userId": "14977168148610047323"
     },
     "user_tz": -540
    },
    "id": "XpDBh8FZvw-0",
    "outputId": "17bbee4c-0fef-4ff9-d50e-219d51629fc8"
   },
   "outputs": [
    {
     "name": "stdout",
     "output_type": "stream",
     "text": [
      "[[150  25   0]\n",
      " [200  30   0]\n",
      " [ 50  10   1]\n",
      " [300  45   0]]\n"
     ]
    }
   ],
   "source": [
    "customer = np.array(\n",
    "    [\n",
    "        [150, 25, 0],\n",
    "        [200, 30, 0],\n",
    "        [50, 10, 1],\n",
    "        [300, 45, 0]\n",
    "    ]\n",
    ")\n",
    "print(customer)"
   ]
  },
  {
   "cell_type": "code",
   "execution_count": 10,
   "metadata": {
    "colab": {
     "base_uri": "https://localhost:8080/"
    },
    "executionInfo": {
     "elapsed": 44,
     "status": "ok",
     "timestamp": 1747890843848,
     "user": {
      "displayName": "이민영",
      "userId": "14977168148610047323"
     },
     "user_tz": -540
    },
    "id": "gTJ5gLWRxRVO",
    "outputId": "76c88387-5a04-4bab-ffda-a3d9ff4b81b5"
   },
   "outputs": [
    {
     "name": "stdout",
     "output_type": "stream",
     "text": [
      "[[120  20   0]\n",
      " [180  35   1]\n",
      " [ 75   5   0]\n",
      " [160  25   0]]\n"
     ]
    }
   ],
   "source": [
    "new_customer = np.array(\n",
    "    [\n",
    "     [120, 20, 0],\n",
    "     [180, 35, 1],\n",
    "     [75, 5, 0],\n",
    "     [160, 25, 0]\n",
    "    ]\n",
    ")\n",
    "print(new_customer)"
   ]
  },
  {
   "cell_type": "code",
   "execution_count": 11,
   "metadata": {
    "colab": {
     "base_uri": "https://localhost:8080/"
    },
    "executionInfo": {
     "elapsed": 4,
     "status": "ok",
     "timestamp": 1747890859430,
     "user": {
      "displayName": "이민영",
      "userId": "14977168148610047323"
     },
     "user_tz": -540
    },
    "id": "0zrdHB0TyRx0",
    "outputId": "5c32e335-3383-4a35-c0ae-00369cb5d8d1"
   },
   "outputs": [
    {
     "name": "stdout",
     "output_type": "stream",
     "text": [
      "[[150  25   0]\n",
      " [200  30   0]\n",
      " [ 50  10   1]\n",
      " [300  45   0]\n",
      " [120  20   0]\n",
      " [180  35   1]\n",
      " [ 75   5   0]\n",
      " [160  25   0]]\n"
     ]
    }
   ],
   "source": [
    "combined_data = np.vstack((customer, new_customer))\n",
    "print(combined_data)"
   ]
  },
  {
   "cell_type": "code",
   "execution_count": 12,
   "metadata": {
    "colab": {
     "base_uri": "https://localhost:8080/"
    },
    "executionInfo": {
     "elapsed": 4,
     "status": "ok",
     "timestamp": 1747890861760,
     "user": {
      "displayName": "이민영",
      "userId": "14977168148610047323"
     },
     "user_tz": -540
    },
    "id": "mDCgZdwZyZlj",
    "outputId": "4e4bd779-b6e7-45e3-9276-7dc4f416da1c"
   },
   "outputs": [
    {
     "name": "stdout",
     "output_type": "stream",
     "text": [
      "1235\n",
      "195\n",
      "24.375\n"
     ]
    }
   ],
   "source": [
    "# print(combined_data.sum(axis=1))\n",
    "# print(combined_data.sum(axis=0)[0])\n",
    "total_comment_length = combined_data.sum(axis=0)[0]\n",
    "total_likes = combined_data.sum(axis=0)[1]\n",
    "average_comment_lenght = combined_data.mean(axis=0)[0]\n",
    "average_likes = combined_data.mean(axis=0)[1]\n",
    "print(total_comment_length)\n",
    "print(total_likes)\n",
    "print(average_likes)\n"
   ]
  },
  {
   "cell_type": "code",
   "execution_count": 13,
   "metadata": {
    "colab": {
     "base_uri": "https://localhost:8080/"
    },
    "executionInfo": {
     "elapsed": 3,
     "status": "ok",
     "timestamp": 1747890865440,
     "user": {
      "displayName": "이민영",
      "userId": "14977168148610047323"
     },
     "user_tz": -540
    },
    "id": "wZOGp6IqzRwh",
    "outputId": "9fcf7bb0-eb31-46c1-e582-43bc182b0f43"
   },
   "outputs": [
    {
     "name": "stdout",
     "output_type": "stream",
     "text": [
      "[array([[150,  25,   0],\n",
      "       [200,  30,   0]]), array([[ 50,  10,   1],\n",
      "       [300,  45,   0]]), array([[120,  20,   0],\n",
      "       [180,  35,   1]]), array([[ 75,   5,   0],\n",
      "       [160,  25,   0]])]\n"
     ]
    }
   ],
   "source": [
    "divided_data = np.vsplit(combined_data, 4)\n",
    "print(divided_data)"
   ]
  },
  {
   "cell_type": "code",
   "execution_count": null,
   "metadata": {
    "colab": {
     "base_uri": "https://localhost:8080/"
    },
    "executionInfo": {
     "elapsed": 5,
     "status": "ok",
     "timestamp": 1747881593541,
     "user": {
      "displayName": "이민영",
      "userId": "14977168148610047323"
     },
     "user_tz": -540
    },
    "id": "6BaDoEZW1Sp8",
    "outputId": "d3674a78-e78f-4a09-a84d-e5edeb584956"
   },
   "outputs": [
    {
     "name": "stdout",
     "output_type": "stream",
     "text": [
      "댓글 길이 총합:  1235\n",
      "좋아요 수 총합:  195\n",
      "댓글 길이 평균:  154.375\n",
      "댓글 길이 평균:  154.375\n"
     ]
    }
   ],
   "source": [
    "column_sums = combined_data.sum(axis=0)\n",
    "total_comment_length = column_sums[0]\n",
    "total_likes = column_sums[1]\n",
    "column_means = combined_data.mean(axis=0)\n",
    "average_comment_length = column_means[0]\n",
    "average_likes = column_means[1]\n",
    "\n",
    "print(\"댓글 길이 총합: \" , total_comment_length)\n",
    "print(\"좋아요 수 총합: \" , total_likes)\n",
    "print(\"댓글 길이 평균: \" , average_comment_length)\n",
    "print(\"댓글 길이 평균: \" , average_comment_length)"
   ]
  },
  {
   "cell_type": "code",
   "execution_count": null,
   "metadata": {
    "colab": {
     "base_uri": "https://localhost:8080/"
    },
    "executionInfo": {
     "elapsed": 7,
     "status": "ok",
     "timestamp": 1747881848898,
     "user": {
      "displayName": "이민영",
      "userId": "14977168148610047323"
     },
     "user_tz": -540
    },
    "id": "LCEZDV0l2-eg",
    "outputId": "c0afd8e9-42c8-471e-c45d-ca2013470db8"
   },
   "outputs": [
    {
     "name": "stdout",
     "output_type": "stream",
     "text": [
      "[[150  25   0]\n",
      " [ 50  10   1]\n",
      " [120  20   0]]\n"
     ]
    }
   ],
   "source": [
    "selected_customers = combined_data[[0, 2, 4], :]\n",
    "print(selected_customers)"
   ]
  },
  {
   "cell_type": "code",
   "execution_count": 7,
   "metadata": {
    "colab": {
     "base_uri": "https://localhost:8080/",
     "height": 166
    },
    "executionInfo": {
     "elapsed": 7,
     "status": "error",
     "timestamp": 1747890831529,
     "user": {
      "displayName": "이민영",
      "userId": "14977168148610047323"
     },
     "user_tz": -540
    },
    "id": "FJxozmWk36w_",
    "outputId": "edf5f01d-fa9c-440b-ca41-bbc653b36c59"
   },
   "outputs": [
    {
     "ename": "NameError",
     "evalue": "name 'combined_data' is not defined",
     "output_type": "error",
     "traceback": [
      "\u001b[0;31m---------------------------------------------------------------------------\u001b[0m",
      "\u001b[0;31mNameError\u001b[0m                                 Traceback (most recent call last)",
      "\u001b[0;32m<ipython-input-7-ea783e68958d>\u001b[0m in \u001b[0;36m<cell line: 0>\u001b[0;34m()\u001b[0m\n\u001b[0;32m----> 1\u001b[0;31m \u001b[0mt\u001b[0m \u001b[0;34m=\u001b[0m \u001b[0mcombined_data\u001b[0m\u001b[0;34m.\u001b[0m\u001b[0mT\u001b[0m\u001b[0;34m\u001b[0m\u001b[0;34m\u001b[0m\u001b[0m\n\u001b[0m\u001b[1;32m      2\u001b[0m \u001b[0mprint\u001b[0m\u001b[0;34m(\u001b[0m\u001b[0mt\u001b[0m\u001b[0;34m)\u001b[0m\u001b[0;34m\u001b[0m\u001b[0;34m\u001b[0m\u001b[0m\n",
      "\u001b[0;31mNameError\u001b[0m: name 'combined_data' is not defined"
     ]
    }
   ],
   "source": [
    "t = combined_data.T\n",
    "print(t)"
   ]
  },
  {
   "cell_type": "code",
   "execution_count": 6,
   "metadata": {
    "colab": {
     "base_uri": "https://localhost:8080/"
    },
    "executionInfo": {
     "elapsed": 3,
     "status": "ok",
     "timestamp": 1747890828970,
     "user": {
      "displayName": "이민영",
      "userId": "14977168148610047323"
     },
     "user_tz": -540
    },
    "id": "xSNDWtPL4MYv",
    "outputId": "b031e43e-ffdc-42e8-a0aa-705dfdaaff3e"
   },
   "outputs": [
    {
     "name": "stdout",
     "output_type": "stream",
     "text": [
      "[[0 0 0]\n",
      " [0 0 0]]\n"
     ]
    }
   ],
   "source": [
    "new_customers = np.zeros((2,3), dtype=int)\n",
    "print(new_customers)"
   ]
  },
  {
   "cell_type": "code",
   "execution_count": null,
   "metadata": {
    "id": "BMV8ooDI6mwD"
   },
   "outputs": [],
   "source": []
  },
  {
   "cell_type": "code",
   "execution_count": 14,
   "metadata": {
    "colab": {
     "base_uri": "https://localhost:8080/"
    },
    "executionInfo": {
     "elapsed": 10,
     "status": "ok",
     "timestamp": 1747890873362,
     "user": {
      "displayName": "이민영",
      "userId": "14977168148610047323"
     },
     "user_tz": -540
    },
    "id": "r2tz4oIp4fQu",
    "outputId": "925ea069-61c0-4ac6-9470-7bce79b60696"
   },
   "outputs": [
    {
     "name": "stdout",
     "output_type": "stream",
     "text": [
      "[[150  35   0]\n",
      " [200  40   0]\n",
      " [ 50  20   1]\n",
      " [300  55   0]\n",
      " [120  30   0]\n",
      " [180  45   1]\n",
      " [ 75  15   0]\n",
      " [160  35   0]]\n"
     ]
    }
   ],
   "source": [
    "combined_data[:, 1] = combined_data[:, 1] + 10\n",
    "         # 두 번째 열\n",
    "print(combined_data)"
   ]
  },
  {
   "cell_type": "code",
   "execution_count": 17,
   "metadata": {
    "colab": {
     "base_uri": "https://localhost:8080/"
    },
    "executionInfo": {
     "elapsed": 14,
     "status": "ok",
     "timestamp": 1747890893682,
     "user": {
      "displayName": "이민영",
      "userId": "14977168148610047323"
     },
     "user_tz": -540
    },
    "id": "gm9FOO0J5KwN",
    "outputId": "10271c96-1a91-4570-d6d8-de2149fe9ea7"
   },
   "outputs": [
    {
     "name": "stdout",
     "output_type": "stream",
     "text": [
      "[[44 47 64 67 67]\n",
      " [ 9 83 21 36 87]\n",
      " [70 88 88 12 58]\n",
      " [65 39 87 46 88]\n",
      " [81 37 25 77 72]\n",
      " [ 9 20 80 69 79]\n",
      " [47 64 82 99 88]\n",
      " [49 29 19 19 14]\n",
      " [39 32 65  9 57]\n",
      " [32 31 74 23 35]]\n"
     ]
    }
   ],
   "source": [
    "np.random.seed(0)\n",
    "scores = np.random.randint(0, 101, size=(10,5))\n",
    "print(scores)"
   ]
  },
  {
   "cell_type": "code",
   "execution_count": 19,
   "metadata": {
    "colab": {
     "base_uri": "https://localhost:8080/"
    },
    "executionInfo": {
     "elapsed": 4,
     "status": "ok",
     "timestamp": 1747890895543,
     "user": {
      "displayName": "이민영",
      "userId": "14977168148610047323"
     },
     "user_tz": -540
    },
    "id": "6p9TT0eZ6-E6",
    "outputId": "dc0d2a0e-1bf8-4258-ac8e-af42ab111f27"
   },
   "outputs": [
    {
     "name": "stdout",
     "output_type": "stream",
     "text": [
      "[289 236 316 325 292 257 380 130 202 195]\n",
      "[57.8 47.2 63.2 65.  58.4 51.4 76.  26.  40.4 39. ]\n"
     ]
    }
   ],
   "source": [
    "student_sum = scores.sum(axis=1)\n",
    "student_mean = scores.mean(axis=1)\n",
    "print(student_sum)\n",
    "print(student_mean)"
   ]
  },
  {
   "cell_type": "code",
   "execution_count": 20,
   "metadata": {
    "colab": {
     "base_uri": "https://localhost:8080/"
    },
    "executionInfo": {
     "elapsed": 5,
     "status": "ok",
     "timestamp": 1747890897697,
     "user": {
      "displayName": "이민영",
      "userId": "14977168148610047323"
     },
     "user_tz": -540
    },
    "id": "GQCPGhrz7fcy",
    "outputId": "f96c8ecf-27c2-4c63-ecd4-b55949d8e96e"
   },
   "outputs": [
    {
     "name": "stdout",
     "output_type": "stream",
     "text": [
      "[445 470 605 457 645]\n",
      "[44.5 47.  60.5 45.7 64.5]\n"
     ]
    }
   ],
   "source": [
    "sbjt_sum = scores.sum(axis=0)\n",
    "sbjt_mean = scores.mean(axis=0)\n",
    "print(sbjt_sum)\n",
    "print(sbjt_mean)"
   ]
  },
  {
   "cell_type": "code",
   "execution_count": 26,
   "metadata": {
    "colab": {
     "base_uri": "https://localhost:8080/"
    },
    "executionInfo": {
     "elapsed": 9,
     "status": "ok",
     "timestamp": 1747890939938,
     "user": {
      "displayName": "이민영",
      "userId": "14977168148610047323"
     },
     "user_tz": -540
    },
    "id": "DNxz7TN58JS4",
    "outputId": "8340fadd-e6fc-41f9-abb9-fb5ed7dd3036"
   },
   "outputs": [
    {
     "name": "stdout",
     "output_type": "stream",
     "text": [
      "1등 학생의 총점은  380 평균은  76.0\n"
     ]
    }
   ],
   "source": [
    "first_sum = student_sum.max()\n",
    "first_mean = student_mean.max()\n",
    "print(\"1등 학생의 총점은 \", first_sum, \"평균은 \", first_mean)"
   ]
  },
  {
   "cell_type": "code",
   "execution_count": 22,
   "metadata": {
    "colab": {
     "base_uri": "https://localhost:8080/"
    },
    "executionInfo": {
     "elapsed": 7,
     "status": "ok",
     "timestamp": 1747890903338,
     "user": {
      "displayName": "이민영",
      "userId": "14977168148610047323"
     },
     "user_tz": -540
    },
    "id": "zNZArZ1h8l4Y",
    "outputId": "54718c43-3222-45dd-d543-3b3956012ccb"
   },
   "outputs": [
    {
     "name": "stdout",
     "output_type": "stream",
     "text": [
      "[63.2 65.  76. ]\n"
     ]
    }
   ],
   "source": [
    "upper_60 = student_mean[student_mean >= 60]\n",
    "print(upper_60)"
   ]
  },
  {
   "cell_type": "code",
   "execution_count": 23,
   "metadata": {
    "colab": {
     "base_uri": "https://localhost:8080/"
    },
    "executionInfo": {
     "elapsed": 42,
     "status": "ok",
     "timestamp": 1747890905509,
     "user": {
      "displayName": "이민영",
      "userId": "14977168148610047323"
     },
     "user_tz": -540
    },
    "id": "yue-YhLl9b1v",
    "outputId": "dc690db2-110c-49ae-ec83-b078438c4ab7"
   },
   "outputs": [
    {
     "name": "stdout",
     "output_type": "stream",
     "text": [
      "학생 3: 각 점수 [70 88 88 12 58], 평균 63.2\n",
      "학생 4: 각 점수 [65 39 87 46 88], 평균 65.0\n",
      "학생 7: 각 점수 [47 64 82 99 88], 평균 76.0\n"
     ]
    }
   ],
   "source": [
    "for i, mean_score in enumerate(student_mean):\n",
    "    if mean_score >= 60:\n",
    "        each_scores = scores[i]  # 해당 학생의 각 과목 점수\n",
    "        print(f\"학생 {i+1}: 각 점수 {each_scores}, 평균 {mean_score:.1f}\")"
   ]
  },
  {
   "cell_type": "code",
   "execution_count": 24,
   "metadata": {
    "colab": {
     "base_uri": "https://localhost:8080/"
    },
    "executionInfo": {
     "elapsed": 9,
     "status": "ok",
     "timestamp": 1747890907160,
     "user": {
      "displayName": "이민영",
      "userId": "14977168148610047323"
     },
     "user_tz": -540
    },
    "id": "ltDINZQ4-pev",
    "outputId": "234b9d92-ed97-46ea-9b16-dece34e47cb1"
   },
   "outputs": [
    {
     "name": "stdout",
     "output_type": "stream",
     "text": [
      "평균이 가장 높은 과목: 5번째 과목\n",
      "해당 과목의 평균: 64.5\n",
      "해당 과목의 총점 : 645.0\n",
      "해당 과목의 모든 학생 점수: [67 87 58 88 72 79 88 14 57 35]\n"
     ]
    }
   ],
   "source": [
    "max_avg = sbjt_mean.max()\n",
    "max_sum = sbjt_sum.max()\n",
    "max_index = sbjt_mean.argmax()\n",
    "\n",
    "\n",
    "print(f\"평균이 가장 높은 과목: {max_index+1}번째 과목\")\n",
    "print(f\"해당 과목의 평균: {max_avg:.1f}\")\n",
    "print(f\"해당 과목의 총점 : {max_sum:.1f}\")\n",
    "print(f\"해당 과목의 모든 학생 점수: {scores[:, max_index]}\")"
   ]
  },
  {
   "cell_type": "code",
   "execution_count": 25,
   "metadata": {
    "colab": {
     "base_uri": "https://localhost:8080/",
     "height": 221
    },
    "executionInfo": {
     "elapsed": 2,
     "status": "error",
     "timestamp": 1747890908843,
     "user": {
      "displayName": "이민영",
      "userId": "14977168148610047323"
     },
     "user_tz": -540
    },
    "id": "ByugKb9w91fX",
    "outputId": "2999e412-d37b-4581-b7db-44c17cf641ab"
   },
   "outputs": [
    {
     "ename": "NameError",
     "evalue": "name 'student_avg' is not defined",
     "output_type": "error",
     "traceback": [
      "\u001b[0;31m---------------------------------------------------------------------------\u001b[0m",
      "\u001b[0;31mNameError\u001b[0m                                 Traceback (most recent call last)",
      "\u001b[0;32m<ipython-input-25-dbba702b839c>\u001b[0m in \u001b[0;36m<cell line: 0>\u001b[0;34m()\u001b[0m\n\u001b[0;32m----> 1\u001b[0;31m \u001b[0mhigh_avg_mask\u001b[0m \u001b[0;34m=\u001b[0m \u001b[0mstudent_avg\u001b[0m \u001b[0;34m>=\u001b[0m\u001b[0;36m60\u001b[0m\u001b[0;34m\u001b[0m\u001b[0;34m\u001b[0m\u001b[0m\n\u001b[0m\u001b[1;32m      2\u001b[0m \u001b[0mhigh_avg_scores\u001b[0m \u001b[0;34m=\u001b[0m \u001b[0mscores\u001b[0m\u001b[0;34m[\u001b[0m\u001b[0mhigh_avg_mask\u001b[0m\u001b[0;34m]\u001b[0m\u001b[0;34m\u001b[0m\u001b[0;34m\u001b[0m\u001b[0m\n\u001b[1;32m      3\u001b[0m \u001b[0mhigh_avg_values\u001b[0m \u001b[0;34m=\u001b[0m \u001b[0mstudent_avg\u001b[0m\u001b[0;34m[\u001b[0m\u001b[0mhigh_avg_mask\u001b[0m\u001b[0;34m]\u001b[0m\u001b[0;34m\u001b[0m\u001b[0;34m\u001b[0m\u001b[0m\n\u001b[1;32m      4\u001b[0m \u001b[0;34m\u001b[0m\u001b[0m\n\u001b[1;32m      5\u001b[0m \u001b[0mprint\u001b[0m\u001b[0;34m(\u001b[0m\u001b[0;34m\"전체 성적표 : \\n\"\u001b[0m\u001b[0;34m,\u001b[0m \u001b[0mscores\u001b[0m\u001b[0;34m)\u001b[0m\u001b[0;34m\u001b[0m\u001b[0;34m\u001b[0m\u001b[0m\n",
      "\u001b[0;31mNameError\u001b[0m: name 'student_avg' is not defined"
     ]
    }
   ],
   "source": [
    "high_avg_mask = student_avg >=60\n",
    "high_avg_scores = scores[high_avg_mask]\n",
    "high_avg_values = student_avg[high_avg_mask]\n",
    "\n",
    "print(\"전체 성적표 : \\n\", scores)\n",
    "print(\"학생별 평균 점수  : \\n\", np.round(student_avg, 2))\n",
    "\n",
    "if high_avg_scores.shape[0] > 0:\n",
    "  count = 1\n",
    "  for score, avg in aip(high_avg_scores, high_avg_values):\n",
    "    print(f\"학생 {count}: 점수 = {score}, 평균 = {round(avg, 2)}\")\n",
    "    count +=1\n",
    "else:\n",
    "  print(\"해당 학생이 없습니다. \")"
   ]
  },
  {
   "cell_type": "code",
   "execution_count": 35,
   "metadata": {
    "colab": {
     "base_uri": "https://localhost:8080/"
    },
    "executionInfo": {
     "elapsed": 7,
     "status": "ok",
     "timestamp": 1747891478922,
     "user": {
      "displayName": "이민영",
      "userId": "14977168148610047323"
     },
     "user_tz": -540
    },
    "id": "3Qn6F9FtZrRA",
    "outputId": "44811638-3b5b-4422-b20b-8619d2df74b7"
   },
   "outputs": [
    {
     "name": "stdout",
     "output_type": "stream",
     "text": [
      "[[150  35   0]\n",
      " [200  40   0]\n",
      " [300  55   0]\n",
      " [120  30   0]\n",
      " [160  35   0]]\n"
     ]
    }
   ],
   "source": [
    "selected_customers_2 = combined_data[(combined_data[:, 0]>=100)\n",
    "                                      & (combined_data[:, 1]>=20)\n",
    "                                      & (combined_data[:, 2] == 0)]\n",
    "print(selected_customers_2)"
   ]
  },
  {
   "cell_type": "code",
   "execution_count": null,
   "metadata": {
    "id": "kw9hqIJgbA53"
   },
   "outputs": [],
   "source": []
  }
 ],
 "metadata": {
  "accelerator": "GPU",
  "colab": {
   "authorship_tag": "ABX9TyP/huv+XjPWfIgV18komCzV",
   "gpuType": "T4",
   "provenance": [
    {
     "file_id": "1nb-yRWpyGcTGAmZuRTkOHhDGBgaz42Rc",
     "timestamp": 1747891587628
    }
   ]
  },
  "kernelspec": {
   "display_name": "Python 3",
   "name": "python3"
  },
  "language_info": {
   "name": "python"
  }
 },
 "nbformat": 4,
 "nbformat_minor": 0
}

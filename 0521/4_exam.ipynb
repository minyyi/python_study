{
 "cells": [
  {
   "cell_type": "code",
   "execution_count": 44,
   "id": "fc5cdd14",
   "metadata": {},
   "outputs": [
    {
     "name": "stdout",
     "output_type": "stream",
     "text": [
      "원본 데이터 리스트:\n",
      "[('Russia', 17075200), ('Canada', 9984670), ('United States of America', 9826630), ('China', 1385566537), ('Brazil', 200361925), ('Australia', 23342553), ('India', 1252139596), ('Argentina', 41446246), ('Kazakhstan', 16440586), ('Algeria', 39208194), ('Congo', 67513677), ('Greenland', 56987), ('Saudi Arabia', 28828870), ('Mexico', 122332399), ('Indonesia', 249865631), ('Sudan', 37964306), ('Libya', 6201521), ('Iran', 77447168), ('Mongolia', 2839073), ('Peru', 30375603), ('Chad', 12825314), ('Niger', 17831270), ('Angola', 21471618), ('Mali', 15301650), ('South Africa', 52776130), ('Colombia', 48321405), ('Ethiopia', 94100756), ('Bolivia', 10671200), ('Mauritania', 3889880), ('Egypt', 82056378), ('Tanzania', 49253126), ('Nigeria', 173615345), ('Venezuela', 30405207), ('Namibia', 2303315), ('Pakistan', 182142594), ('Mozambique', 25833752), ('Turkey', 74932641), ('Chile', 17619708), ('Zambia', 14538640), ('Myanmar', 53259018), ('Afghanistan', 30551674), ('South Sudan', 11296173), ('France', 64291280), ('Somalia', 10495583), ('Central African Republic', 4616417), ('Ukraine', 45238805), ('Botswana', 2021144), ('Madagascar', 22924851), ('Kenya', 44353691), ('Yemen', 24407381)]\n",
      "\n",
      "문자 'C'로 시작하는 나라들: Canada, China, Congo, Chad, Colombia, Chile, Central African Republic\n",
      "C로 시작하는 나라들의 숫자 합계: 1546447728\n"
     ]
    }
   ],
   "source": [
    "\n",
    "import re\n",
    "def cnt_popul(filepath):\n",
    "    tpl = []\n",
    "    with open(filepath, 'r') as t:\n",
    "         for line in t:\n",
    "            clean_line = line.strip()\n",
    "            parts = clean_line.split(',')\n",
    "            if len(parts) == 2:\n",
    "                country_name = parts[0].strip() # 국가명 앞뒤 공백 제거\n",
    "                try:\n",
    "                    number_value = int(parts[1].strip()) # 숫자 앞뒤 공백 제거 후 정수 변환\n",
    "                    result_list.append((country_name, number_value))\n",
    "                except ValueError:\n",
    "                    print(f\"경고: '{parts[1]}'은(는 유효한 숫자가 아닙니다. 이 줄은 건너뜜: {clean_line}\")\n",
    "            else:\n",
    "                print(f\"경고: 형식이 올바르지 않은 줄입니다. 이 줄은 건너뜜: {clean_line}\")\n",
    "    return tpl # 최종적으로 리스트를 반환\n",
    "\n",
    "country_data_list = process_country_data(file_path)\n",
    "print(f\"원본 데이터 리스트:\\n{country_data_list}\\n\")\n",
    "\n",
    "total_sum_for_c = 0\n",
    "c_starting_countries = []\n",
    "\n",
    "for country, value in country_data_list:\n",
    "    # .startswith() 메서드와 .lower()를 사용하여 대소문자 구분 없이 'c'로 시작하는지 확인\n",
    "    if country.lower().startswith('c'):\n",
    "        total_sum_for_c += value\n",
    "        c_starting_countries.append(country) # 어떤 나라들이 포함되었는지 확인용\n",
    "\n",
    "print(f\"문자 'C'로 시작하는 나라들: {', '.join(c_starting_countries)}\")\n",
    "print(f\"C로 시작하는 나라들의 숫자 합계: {total_sum_for_c}\")\n"
   ]
  },
  {
   "cell_type": "code",
   "execution_count": 32,
   "id": "2b603808",
   "metadata": {},
   "outputs": [
    {
     "name": "stdout",
     "output_type": "stream",
     "text": [
      "원본 데이터 리스트:\n",
      "[('Russia', 17075200), ('Canada', 9984670), ('United States of America', 9826630), ('China', 1385566537), ('Brazil', 200361925), ('Australia', 23342553), ('India', 1252139596), ('Argentina', 41446246), ('Kazakhstan', 16440586), ('Algeria', 39208194), ('Congo', 67513677), ('Greenland', 56987), ('Saudi Arabia', 28828870), ('Mexico', 122332399), ('Indonesia', 249865631), ('Sudan', 37964306), ('Libya', 6201521), ('Iran', 77447168), ('Mongolia', 2839073), ('Peru', 30375603), ('Chad', 12825314), ('Niger', 17831270), ('Angola', 21471618), ('Mali', 15301650), ('South Africa', 52776130), ('Colombia', 48321405), ('Ethiopia', 94100756), ('Bolivia', 10671200), ('Mauritania', 3889880), ('Egypt', 82056378), ('Tanzania', 49253126), ('Nigeria', 173615345), ('Venezuela', 30405207), ('Namibia', 2303315), ('Pakistan', 182142594), ('Mozambique', 25833752), ('Turkey', 74932641), ('Chile', 17619708), ('Zambia', 14538640), ('Myanmar', 53259018), ('Afghanistan', 30551674), ('South Sudan', 11296173), ('France', 64291280), ('Somalia', 10495583), ('Central African Republic', 4616417), ('Ukraine', 45238805), ('Botswana', 2021144), ('Madagascar', 22924851), ('Kenya', 44353691), ('Yemen', 24407381)]\n",
      "\n",
      "문자 'C'로 시작하는 나라들: Canada, China, Congo, Chad, Colombia, Chile, Central African Republic\n",
      "C로 시작하는 나라들의 숫자 합계: 1546447728\n"
     ]
    }
   ],
   "source": [
    "import re\n",
    "\n",
    "def process_country_data(filepath):\n",
    "    \"\"\"\n",
    "    파일에서 국가명과 숫자를 읽어 (국가명, 숫자) 튜플 리스트로 반환합니다.\n",
    "    \"\"\"\n",
    "    result_list = []  # 튜플을 저장할 리스트\n",
    "    with open(filepath, 'r', encoding='utf-8') as f:\n",
    "        for line in f:\n",
    "            clean_line = line.strip()\n",
    "            parts = clean_line.split(',')\n",
    "            \n",
    "            if len(parts) == 2:\n",
    "                country_name = parts[0].strip() # 국가명 앞뒤 공백 제거\n",
    "                try:\n",
    "                    number_value = int(parts[1].strip()) # 숫자 앞뒤 공백 제거 후 정수 변환\n",
    "                    result_list.append((country_name, number_value))\n",
    "                except ValueError:\n",
    "                    print(f\"경고: '{parts[1]}'은(는 유효한 숫자가 아닙니다. 이 줄은 건너뜜: {clean_line}\")\n",
    "            else:\n",
    "                print(f\"경고: 형식이 올바르지 않은 줄입니다. 이 줄은 건너뜜: {clean_line}\")\n",
    "    return result_list # 최종적으로 리스트를 반환\n",
    "\n",
    "# --- 메인 실행 부분 ---\n",
    "\n",
    "file_path = '41-1.txt' \n",
    "\n",
    "# 1. 파일에서 데이터를 읽어 튜플 리스트로 가져오기\n",
    "country_data_list = process_country_data(file_path)\n",
    "print(f\"원본 데이터 리스트:\\n{country_data_list}\\n\")\n",
    "\n",
    "# 2. 'C' 또는 'c'로 시작하는 나라의 숫자 합계 계산\n",
    "total_sum_for_c = 0\n",
    "c_starting_countries = []\n",
    "\n",
    "for country, value in country_data_list:\n",
    "    # .startswith() 메서드와 .lower()를 사용하여 대소문자 구분 없이 'c'로 시작하는지 확인\n",
    "    if country.lower().startswith('c'):\n",
    "        total_sum_for_c += value\n",
    "        c_starting_countries.append(country) # 어떤 나라들이 포함되었는지 확인용\n",
    "\n",
    "print(f\"문자 'C'로 시작하는 나라들: {', '.join(c_starting_countries)}\")\n",
    "print(f\"C로 시작하는 나라들의 숫자 합계: {total_sum_for_c}\")"
   ]
  },
  {
   "cell_type": "code",
   "execution_count": 36,
   "id": "4188231f",
   "metadata": {},
   "outputs": [
    {
     "name": "stdout",
     "output_type": "stream",
     "text": [
      "총합: 1546447728\n",
      "\n"
     ]
    }
   ],
   "source": [
    "total_C = 0\n",
    "with open('41-2.txt', 'w') as f:\n",
    "    for country, value in country_data_list:\n",
    "        if country.lower().startswith('c'):\n",
    "            total_C += value\n",
    "    #         f.write(f\"{country}, {value}\\n\")\n",
    "    # f.write(f\"총합: {total_C}\\n\")\n",
    "    print(f\"총합: {total_C}\\n\")"
   ]
  },
  {
   "cell_type": "code",
   "execution_count": null,
   "id": "09e813c3",
   "metadata": {},
   "outputs": [
    {
     "name": "stdout",
     "output_type": "stream",
     "text": [
      "1546447728\n"
     ]
    }
   ],
   "source": [
    "def read_text_file1(file_path):\n",
    "    value_list = [] #총 합을 구할 때는 리스트가 제일 좋음\n",
    "    with open(file_path, 'r') as f:\n",
    "        # print(f.readline())\n",
    "        lines = f.readlines()\n",
    "        \n",
    "        for line in lines:\n",
    "            country, value = line.strip().split(',')\n",
    "            # print(country, value)\n",
    "            if country.lower().startswith('c'):\n",
    "                value_list.append(int(value.strip()))\n",
    "                # print(value_list)\n",
    "    return value_list\n",
    "\n",
    "result = read_text_file1('41-1.txt')\n",
    "print(sum(result)) \n",
    "        \n",
    "# read_text_file1('41-1.txt')"
   ]
  },
  {
   "cell_type": "code",
   "execution_count": 52,
   "id": "c177df8c",
   "metadata": {},
   "outputs": [
    {
     "name": "stdout",
     "output_type": "stream",
     "text": [
      "1546447728\n"
     ]
    }
   ],
   "source": [
    "import csv\n",
    "def read_text_file2(file_path):\n",
    "    value_list = [] #총 합을 구할 때는 리스트가 제일 좋음\n",
    "\n",
    "    with open(file_path, 'r') as f:\n",
    "        reader = csv.reader(f, delimiter=',')\n",
    "        \n",
    "        for row in reader:\n",
    "            # country, value = line.strip().split(',')\n",
    "            # print(country, value)\n",
    "            if row[0].lower().startswith('c'):\n",
    "                value_list.append(int(row[1]))\n",
    "                # print(value_list)\n",
    "    return value_list\n",
    "\n",
    "result = read_text_file2('41-1.txt')\n",
    "print(sum(result)) \n"
   ]
  },
  {
   "cell_type": "code",
   "execution_count": 1,
   "id": "038f83ca",
   "metadata": {},
   "outputs": [
    {
     "name": "stdout",
     "output_type": "stream",
     "text": [
      "유효하지 않은 입력입니다. 정수를 입력하세요.\n",
      "무조건 실행 영역\n"
     ]
    }
   ],
   "source": [
    "try:\n",
    "    number_input = int(input(\"정수를 입력하세요: \"))\n",
    "except:\n",
    "    print(\"유효하지 않은 입력입니다. 정수를 입력하세요.\")\n",
    "else:\n",
    "    print(\"원의 넓이: \", 3.14 * number_input **2)\n",
    "finally:\n",
    "    print(\"무조건 실행 영역\")"
   ]
  },
  {
   "cell_type": "code",
   "execution_count": 60,
   "id": "3effdbc1",
   "metadata": {},
   "outputs": [
    {
     "name": "stdout",
     "output_type": "stream",
     "text": [
      "유효하지 않은 입력입니다. 정수를 입력하세요.\n",
      "무조건 실행 영역\n"
     ]
    }
   ],
   "source": [
    "a = [1,2]\n",
    "\n",
    "try:\n",
    "    number_input = int(input(\"정수를 입력하세요: \"))\n",
    "except ValueError:\n",
    "    print(\"유효하지 않은 입력입니다. 정수를 입력하세요.\")\n",
    "except IndexError:\n",
    "    print(\"인덱스 에러 발생\")\n",
    "except ZeroDivisionError:\n",
    "    print(\"0으로 나눌 수 없습니다.\")\n",
    "except Exception as e:\n",
    "    print(f\"예외 발생: {e}\")\n",
    "else:\n",
    "    print(a[number_input])\n",
    "finally:\n",
    "    print(\"무조건 실행 영역\")\n",
    "    # print(a[3]) # IndexError: list index out of range\n",
    "    # 4/0 # ZeroDivisionError: division by zero\n",
    "    # print(a[3])\n",
    "# print(a[3])\n",
    "\n",
    "# 4/0"
   ]
  },
  {
   "cell_type": "code",
   "execution_count": 62,
   "id": "c9be2f46",
   "metadata": {},
   "outputs": [
    {
     "name": "stdout",
     "output_type": "stream",
     "text": [
      "예외 발생: list index out of range\n"
     ]
    }
   ],
   "source": [
    "try:\n",
    "    a = [1, 2]\n",
    "    print(a[3])  # IndexError: list index out of range\n",
    "    4/0\n",
    "except ZeroDivisionError as e:\n",
    "    print(f\"예외 발생: {e}\")\n",
    "except IndexError as e:\n",
    "    print(f\"예외 발생: {e}\")    \n"
   ]
  },
  {
   "cell_type": "code",
   "execution_count": 64,
   "id": "49072d05",
   "metadata": {},
   "outputs": [
    {
     "name": "stdout",
     "output_type": "stream",
     "text": [
      "예외 발생: division by zero\n"
     ]
    }
   ],
   "source": [
    "try:\n",
    "    a = [1, 2]\n",
    "    # print(a[3])  # IndexError: list index out of range\n",
    "    4/0\n",
    "except (ZeroDivisionError, IndexError) as e:\n",
    "    print(f\"예외 발생: {e}\")\n"
   ]
  },
  {
   "cell_type": "code",
   "execution_count": 71,
   "id": "179d8275",
   "metadata": {},
   "outputs": [
    {
     "name": "stdout",
     "output_type": "stream",
     "text": [
      "True\n",
      "False\n",
      "True\n",
      "False\n"
     ]
    }
   ],
   "source": [
    "print(all([1, 2, 3]))\n",
    "print(all([1, 2, 0]))\n",
    "print(any([0, 0, 0, 1]))\n",
    "print(any([0, \"\"]))"
   ]
  },
  {
   "cell_type": "code",
   "execution_count": 73,
   "id": "ab8ab000",
   "metadata": {},
   "outputs": [
    {
     "name": "stdout",
     "output_type": "stream",
     "text": [
      "12\n",
      "3\n"
     ]
    }
   ],
   "source": [
    "print(eval('1'+'2'))\n",
    "print(eval('1 + 2'))"
   ]
  },
  {
   "cell_type": "code",
   "execution_count": null,
   "id": "5e65d917",
   "metadata": {},
   "outputs": [
    {
     "name": "stdout",
     "output_type": "stream",
     "text": [
      "1\n",
      "3\n"
     ]
    }
   ],
   "source": [
    "print(min([1, 2, 3]))\n",
    "print(max([1, 2, 3]))"
   ]
  },
  {
   "cell_type": "code",
   "execution_count": null,
   "id": "47d16f92",
   "metadata": {},
   "outputs": [
    {
     "name": "stdout",
     "output_type": "stream",
     "text": [
      "140\n"
     ]
    }
   ],
   "source": [
    "# 표준 라이브러리\n",
    "import datetime\n",
    "day1 = datetime.date(2025, 5, 21)\n",
    "day2 = datetime.date(2025, 1, 1)\n",
    "diff = day1 - day2\n",
    "print(diff.days) "
   ]
  },
  {
   "cell_type": "code",
   "execution_count": 84,
   "id": "bc9ab6ef",
   "metadata": {},
   "outputs": [
    {
     "name": "stdout",
     "output_type": "stream",
     "text": [
      "1747800864.9615948\n",
      "time.struct_time(tm_year=2025, tm_mon=5, tm_mday=21, tm_hour=13, tm_min=14, tm_sec=24, tm_wday=2, tm_yday=141, tm_isdst=0)\n"
     ]
    },
    {
     "data": {
      "text/plain": [
       "'05/21/25'"
      ]
     },
     "execution_count": 84,
     "metadata": {},
     "output_type": "execute_result"
    }
   ],
   "source": [
    "import time\n",
    "print(time.time()) # 현재 시간의 타임스탬프\n",
    "print(time.localtime()) # 현재 시간의 로컬 시간\n",
    "time.strftime('%x', time.localtime(time.time())) # 현재 시간의 로컬 시간 포맷\n"
   ]
  },
  {
   "cell_type": "code",
   "execution_count": null,
   "id": "0cf03088",
   "metadata": {},
   "outputs": [
    {
     "data": {
      "text/plain": [
       "'25'"
      ]
     },
     "execution_count": 87,
     "metadata": {},
     "output_type": "execute_result"
    }
   ],
   "source": [
    "time.strftime('%c', time.localtime(time.time())) \n",
    "# time.strftime('%y', time.localtime(time.time())) "
   ]
  },
  {
   "cell_type": "code",
   "execution_count": 86,
   "id": "703334c5",
   "metadata": {},
   "outputs": [
    {
     "name": "stdout",
     "output_type": "stream",
     "text": [
      "0\n",
      "1\n",
      "2\n",
      "3\n",
      "4\n",
      "5\n",
      "6\n",
      "7\n",
      "8\n",
      "9\n"
     ]
    }
   ],
   "source": [
    "for i in range(10):\n",
    "    print(i)\n",
    "    time.sleep(1) # 1초 대기"
   ]
  },
  {
   "cell_type": "code",
   "execution_count": 92,
   "id": "ae063c6b",
   "metadata": {},
   "outputs": [
    {
     "name": "stdout",
     "output_type": "stream",
     "text": [
      "7\n"
     ]
    }
   ],
   "source": [
    "import random\n",
    "print(random.randint(1, 10)) # 1부터 10까지의 랜덤 정수"
   ]
  },
  {
   "cell_type": "code",
   "execution_count": 94,
   "id": "0440b1e7",
   "metadata": {},
   "outputs": [
    {
     "name": "stdout",
     "output_type": "stream",
     "text": [
      "2\n"
     ]
    }
   ],
   "source": [
    "data = [1, 2, 3, 4, 5]\n",
    "print(random.choice(data)) # 리스트에서 랜덤으로 하나 선택"
   ]
  },
  {
   "cell_type": "code",
   "execution_count": 95,
   "id": "12bc8a06",
   "metadata": {},
   "outputs": [
    {
     "name": "stdout",
     "output_type": "stream",
     "text": [
      "[1, 4, 3, 2, 5]\n"
     ]
    }
   ],
   "source": [
    "shuffled_data = random.sample(data, len(data)) # 리스트를 랜덤으로 섞기\n",
    "print(shuffled_data) # 섞인 리스트 출력"
   ]
  },
  {
   "cell_type": "code",
   "execution_count": null,
   "id": "094c216d",
   "metadata": {},
   "outputs": [
    {
     "name": "stdout",
     "output_type": "stream",
     "text": [
      "Package                   Version\n",
      "------------------------- --------------\n",
      "anyio                     4.9.0\n",
      "argon2-cffi               23.1.0\n",
      "argon2-cffi-bindings      21.2.0\n",
      "arrow                     1.3.0\n",
      "asttokens                 3.0.0\n",
      "async-lru                 2.0.5\n",
      "attrs                     25.3.0\n",
      "babel                     2.17.0\n",
      "beautifulsoup4            4.13.4\n",
      "bleach                    6.2.0\n",
      "certifi                   2025.4.26\n",
      "cffi                      1.17.1\n",
      "charset-normalizer        3.4.2\n",
      "colorama                  0.4.6\n",
      "comm                      0.2.2\n",
      "debugpy                   1.8.14\n",
      "decorator                 5.2.1\n",
      "defusedxml                0.7.1\n",
      "executing                 2.2.0\n",
      "fastjsonschema            2.21.1\n",
      "fqdn                      1.5.1\n",
      "h11                       0.16.0\n",
      "httpcore                  1.0.9\n",
      "httpx                     0.28.1\n",
      "idna                      3.10\n",
      "ipykernel                 6.29.5\n",
      "ipython                   9.2.0\n",
      "ipython_pygments_lexers   1.1.1\n",
      "ipywidgets                8.1.7\n",
      "isoduration               20.11.0\n",
      "jedi                      0.19.2\n",
      "Jinja2                    3.1.6\n",
      "json5                     0.12.0\n",
      "jsonpointer               3.0.0\n",
      "jsonschema                4.23.0\n",
      "jsonschema-specifications 2025.4.1\n",
      "jupyter                   1.1.1\n",
      "jupyter_client            8.6.3\n",
      "jupyter-console           6.6.3\n",
      "jupyter_core              5.7.2\n",
      "jupyter-events            0.12.0\n",
      "jupyter-lsp               2.2.5\n",
      "jupyter_server            2.16.0\n",
      "jupyter_server_terminals  0.5.3\n",
      "jupyterlab                4.4.2\n",
      "jupyterlab_pygments       0.3.0\n",
      "jupyterlab_server         2.27.3\n",
      "jupyterlab_widgets        3.0.15\n",
      "MarkupSafe                3.0.2\n",
      "matplotlib-inline         0.1.7\n",
      "mistune                   3.1.3\n",
      "nbclient                  0.10.2\n",
      "nbconvert                 7.16.6\n",
      "nbformat                  5.10.4\n",
      "nest-asyncio              1.6.0\n",
      "notebook                  7.4.2\n",
      "notebook_shim             0.2.4\n",
      "overrides                 7.7.0\n",
      "packaging                 25.0\n",
      "pandocfilters             1.5.1\n",
      "parso                     0.8.4\n",
      "pip                       24.0\n",
      "platformdirs              4.3.8\n",
      "prometheus_client         0.22.0\n",
      "prompt_toolkit            3.0.51\n",
      "psutil                    7.0.0\n",
      "pure_eval                 0.2.3\n",
      "pycparser                 2.22\n",
      "Pygments                  2.19.1\n",
      "python-dateutil           2.9.0.post0\n",
      "python-json-logger        3.3.0\n",
      "pywin32                   310\n",
      "pywinpty                  2.0.15\n",
      "PyYAML                    6.0.2\n",
      "pyzmq                     26.4.0\n",
      "referencing               0.36.2\n",
      "requests                  2.32.3\n",
      "rfc3339-validator         0.1.4\n",
      "rfc3986-validator         0.1.1\n",
      "rpds-py                   0.25.0\n",
      "Send2Trash                1.8.3\n",
      "setuptools                65.5.0\n",
      "six                       1.17.0\n",
      "sniffio                   1.3.1\n",
      "soupsieve                 2.7\n",
      "stack-data                0.6.3\n",
      "terminado                 0.18.1\n",
      "tinycss2                  1.4.0\n",
      "tornado                   6.5\n",
      "traitlets                 5.14.3\n",
      "types-python-dateutil     2.9.0.20250516\n",
      "typing_extensions         4.13.2\n",
      "uri-template              1.3.0\n",
      "urllib3                   2.4.0\n",
      "wcwidth                   0.2.13\n",
      "webcolors                 24.11.1\n",
      "webencodings              0.5.1\n",
      "websocket-client          1.8.0\n",
      "widgetsnbextension        4.0.14\n",
      "Note: you may need to restart the kernel to use updated packages.\n"
     ]
    },
    {
     "name": "stderr",
     "output_type": "stream",
     "text": [
      "\n",
      "[notice] A new release of pip is available: 24.0 -> 25.1.1\n",
      "[notice] To update, run: python.exe -m pip install --upgrade pip\n"
     ]
    }
   ],
   "source": [
    "# pip list\n"
   ]
  },
  {
   "cell_type": "code",
   "execution_count": null,
   "id": "350a39ac",
   "metadata": {},
   "outputs": [
    {
     "name": "stdout",
     "output_type": "stream",
     "text": [
      "Collecting Faker\n",
      "  Downloading faker-37.3.0-py3-none-any.whl.metadata (15 kB)\n",
      "Collecting tzdata (from Faker)\n",
      "  Downloading tzdata-2025.2-py2.py3-none-any.whl.metadata (1.4 kB)\n",
      "Downloading faker-37.3.0-py3-none-any.whl (1.9 MB)\n",
      "   ---------------------------------------- 0.0/1.9 MB ? eta -:--:--\n",
      "    --------------------------------------- 0.0/1.9 MB 960.0 kB/s eta 0:00:02\n",
      "   ---- ----------------------------------- 0.2/1.9 MB 3.1 MB/s eta 0:00:01\n",
      "   ---------------------------------------- 1.9/1.9 MB 20.6 MB/s eta 0:00:00\n",
      "Downloading tzdata-2025.2-py2.py3-none-any.whl (347 kB)\n",
      "   ---------------------------------------- 0.0/347.8 kB ? eta -:--:--\n",
      "   --------------------------------------- 347.8/347.8 kB 21.1 MB/s eta 0:00:00\n",
      "Installing collected packages: tzdata, Faker\n",
      "Successfully installed Faker-37.3.0 tzdata-2025.2\n",
      "Note: you may need to restart the kernel to use updated packages.\n"
     ]
    },
    {
     "name": "stderr",
     "output_type": "stream",
     "text": [
      "\n",
      "[notice] A new release of pip is available: 24.0 -> 25.1.1\n",
      "[notice] To update, run: python.exe -m pip install --upgrade pip\n"
     ]
    }
   ],
   "source": [
    "# pip install Faker"
   ]
  },
  {
   "cell_type": "code",
   "execution_count": null,
   "id": "db55e2c0",
   "metadata": {},
   "outputs": [
    {
     "name": "stdout",
     "output_type": "stream",
     "text": [
      "Christopher Fox\n",
      "70303 Spencer Squares\n",
      "Freemanville, CT 81273\n"
     ]
    }
   ],
   "source": [
    "from faker import Faker\n",
    "fake = Faker() \n",
    "print(fake.name()) # 랜덤 이름 생성\n",
    "print(fake.address()) # 랜덤 주소 생성"
   ]
  },
  {
   "cell_type": "code",
   "execution_count": null,
   "id": "73a92e84",
   "metadata": {},
   "outputs": [
    {
     "name": "stdout",
     "output_type": "stream",
     "text": [
      "^C\n",
      "Note: you may need to restart the kernel to use updated packages.\n"
     ]
    }
   ],
   "source": [
    "# pip uninstall Faker"
   ]
  },
  {
   "cell_type": "code",
   "execution_count": null,
   "id": "b69ea63a",
   "metadata": {},
   "outputs": [
    {
     "name": "stdout",
     "output_type": "stream",
     "text": [
      "7\n",
      "-1\n"
     ]
    }
   ],
   "source": [
    "# import mod1\n",
    "# print(mod1.add(3, 4)) \n",
    "# print(mod1.sub(3, 4)) \n",
    "\n",
    "# from mod1 import add, sub\n",
    "# print(add(3, 4))\n",
    "# print(sub(3, 4))"
   ]
  },
  {
   "cell_type": "code",
   "execution_count": 2,
   "id": "74c61f37",
   "metadata": {},
   "outputs": [],
   "source": [
    "import mod1"
   ]
  },
  {
   "cell_type": "code",
   "execution_count": 15,
   "id": "e9ef379f",
   "metadata": {},
   "outputs": [
    {
     "name": "stdout",
     "output_type": "stream",
     "text": [
      "8\n",
      "1\n"
     ]
    }
   ],
   "source": [
    "# import mymod.mod2 as mod2\n",
    "\n",
    "# print(mod2.add2(3, 4))\n",
    "# print(mod2.sub2(3, 4))\n",
    "\n",
    "# from mymod import mod2\n",
    "# print(mod2.add2(3, 4))\n",
    "# print(mod2.sub2(3, 4))\n",
    "from mymod.mod2 import add2, sub2\n",
    "print(add2(4, 4))   \n",
    "print(sub2(5, 4))\n"
   ]
  },
  {
   "cell_type": "code",
   "execution_count": 24,
   "id": "3a1ff770",
   "metadata": {},
   "outputs": [],
   "source": [
    "class Account:\n",
    "    def __init__(self, name, balance): # 생성자\n",
    "        #self는 인스턴스 자신을 가리킴\n",
    "        self.name = name\n",
    "        self.balance = balance\n",
    "\n",
    "    def deposit(self, money):\n",
    "        self.balance += money\n",
    "        print(f\"{money}원이 입금되었습니다. 현재 잔액: {self.balance}원\")\n",
    "        \n",
    "    def inquire(self):\n",
    "        print(f\"계좌주: {self.name}, 잔액: {self.balance}원 입니다.\")\n",
    "\n",
    "    def withdraw(self, amount):\n",
    "        if amount > self.balance:\n",
    "            print(\"잔액이 부족합니다.\")\n",
    "        else:\n",
    "            self.balance -= amount\n",
    "            print(f\"{amount}원이 출금되었습니다. 현재 잔액: {self.balance}원\")"
   ]
  },
  {
   "cell_type": "code",
   "execution_count": 28,
   "id": "028ebabb",
   "metadata": {},
   "outputs": [
    {
     "name": "stdout",
     "output_type": "stream",
     "text": [
      "1000원이 입금되었습니다. 현재 잔액: 6000원\n",
      "계좌주: 홍길동, 잔액: 6000원 입니다.\n"
     ]
    }
   ],
   "source": [
    "account = Account('홍길동',5000)\n",
    "account.deposit(1000)\n",
    "account.inquire()"
   ]
  },
  {
   "cell_type": "code",
   "execution_count": 5,
   "id": "7d0d9baa",
   "metadata": {},
   "outputs": [],
   "source": [
    "class Human:\n",
    "    def __init__(self, name, age):\n",
    "        self.name = name\n",
    "        self.age = age\n",
    "\n",
    "    def greet(self):\n",
    "        print(f\"안녕하세요, 제 이름은 {self.name}이고 나이는 {str(self.age)}세입니다.\")"
   ]
  },
  {
   "cell_type": "code",
   "execution_count": 2,
   "id": "a6aa96aa",
   "metadata": {},
   "outputs": [
    {
     "name": "stdout",
     "output_type": "stream",
     "text": [
      "안녕하세요, 제 이름은 홍길동이고 나이는 30세입니다.\n"
     ]
    }
   ],
   "source": [
    "h = Human(\"홍길동\", 30)\n",
    "h.greet() # \"안녕하세요, 제 이름은 홍길동이고 나이는 30세입니다.\""
   ]
  },
  {
   "cell_type": "code",
   "execution_count": 3,
   "id": "b3a204fc",
   "metadata": {},
   "outputs": [
    {
     "name": "stdout",
     "output_type": "stream",
     "text": [
      "안녕하세요. 저의 이름은홍길동이고, 나이는30세입니다.\n"
     ]
    }
   ],
   "source": [
    "class Person:\n",
    "    def __init__(self, name, age):\n",
    "        self.name = name\n",
    "        self.age = age\n",
    "        # self.job = job\n",
    "        \n",
    "    def introduce(self):\n",
    "        # age = int(self.age)\n",
    "        print(\"안녕하세요. 저의 이름은\" + self.name +\"이고, 나이는\"+str(self.age)+\"세입니다.\" )\n",
    "\n",
    "\n",
    "p = Person(\"홍길동\", 30)\n",
    "        #    , \"개발자\")\n",
    "p.introduce() # \"안녕하세요. 저의 이름은 홍길동이고, 나이는 30세이며, 직업은 개발자입니다.\""
   ]
  },
  {
   "cell_type": "code",
   "execution_count": null,
   "id": "5c0d91a9",
   "metadata": {},
   "outputs": [],
   "source": [
    "class Student(Human):\n",
    "    def __init__(self, name, age, student_id):\n",
    "        super().__init__(name, age)\n",
    "        # 부모 클래스의 생성자 호출\n",
    "        self.student_id = student_id\n",
    "        \n",
    "    def greet(self):\n",
    "        super().greet() #부모 메서드 호출. 이름 같아야함. \n",
    "        print(\"학번 : \"+ str(self.student_id))\n",
    "        \n",
    "    def study(self):\n",
    "        print(f\"{self.name}이(가) 열심히  공부합니다.\")"
   ]
  },
  {
   "cell_type": "code",
   "execution_count": null,
   "id": "ca915371",
   "metadata": {},
   "outputs": [
    {
     "name": "stdout",
     "output_type": "stream",
     "text": [
      "안녕하세요, 제 이름은 이순신이고 나이는 20세입니다.\n",
      "이순신이(가) 열심히  공부합니다.\n"
     ]
    }
   ],
   "source": [
    "lee = Student(\"이순신\", 20, 20230001)\n",
    "lee.greet() # \"안녕하세요, 제 이름은 이순신이고 나이는 20세입니다.\"\n",
    "lee.study()"
   ]
  },
  {
   "cell_type": "code",
   "execution_count": null,
   "id": "a07133ab",
   "metadata": {},
   "outputs": [],
   "source": []
  }
 ],
 "metadata": {
  "kernelspec": {
   "display_name": "Python 3",
   "language": "python",
   "name": "python3"
  },
  "language_info": {
   "codemirror_mode": {
    "name": "ipython",
    "version": 3
   },
   "file_extension": ".py",
   "mimetype": "text/x-python",
   "name": "python",
   "nbconvert_exporter": "python",
   "pygments_lexer": "ipython3",
   "version": "3.11.9"
  }
 },
 "nbformat": 4,
 "nbformat_minor": 5
}
